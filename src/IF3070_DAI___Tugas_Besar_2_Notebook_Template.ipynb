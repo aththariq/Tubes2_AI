{
  "cells": [
    {
      "cell_type": "markdown",
      "metadata": {
        "id": "uR1JW69eLfG_"
      },
      "source": [
        "# IF3070 Foundations of Artificial Intelligence | Tugas Besar 2\n",
        "\n",
        "This notebook serves as a template for the assignment. Please create a copy of this notebook to complete your work. You can add more code blocks, markdown blocks, or new sections if needed.\n"
      ]
    },
    {
      "cell_type": "markdown",
      "metadata": {
        "id": "ucbaI5rBLtjJ"
      },
      "source": [
        "Group Number: 08\n",
        "\n",
        "Group Members:\n",
        "- Daffari Adiyatma (18222003)\n",
        "- Aththariq Lisan Q. D. S. (18222013)\n",
        "- Muhammaf Rafly (18222067)\n",
        "- Alvin Fadhillah Akmal (18222079)"
      ]
    },
    {
      "cell_type": "markdown",
      "metadata": {
        "id": "GwzsfETHLfHA"
      },
      "source": [
        "## Import Libraries"
      ]
    },
    {
      "cell_type": "code",
      "execution_count": 27,
      "metadata": {
        "id": "jZJU5W_4LfHB"
      },
      "outputs": [],
      "source": [
        "from sklearn.base import BaseEstimator, TransformerMixin\n",
        "from sklearn.pipeline import Pipeline\n",
        "from sklearn.impute import SimpleImputer\n",
        "from sklearn.model_selection import train_test_split\n",
        "from sklearn.compose import ColumnTransformer\n",
        "import pandas as pd\n",
        "import numpy as np"
      ]
    },
    {
      "cell_type": "markdown",
      "metadata": {
        "id": "OKbjLIdYLfHC"
      },
      "source": [
        "## Import Dataset"
      ]
    },
    {
      "cell_type": "code",
      "execution_count": 28,
      "metadata": {
        "id": "-IWFJ-gdLfHD"
      },
      "outputs": [
        {
          "data": {
            "text/html": [
              "<div>\n",
              "<style scoped>\n",
              "    .dataframe tbody tr th:only-of-type {\n",
              "        vertical-align: middle;\n",
              "    }\n",
              "\n",
              "    .dataframe tbody tr th {\n",
              "        vertical-align: top;\n",
              "    }\n",
              "\n",
              "    .dataframe thead th {\n",
              "        text-align: right;\n",
              "    }\n",
              "</style>\n",
              "<table border=\"1\" class=\"dataframe\">\n",
              "  <thead>\n",
              "    <tr style=\"text-align: right;\">\n",
              "      <th></th>\n",
              "      <th>id</th>\n",
              "      <th>FILENAME</th>\n",
              "      <th>URL</th>\n",
              "      <th>URLLength</th>\n",
              "      <th>Domain</th>\n",
              "      <th>DomainLength</th>\n",
              "      <th>IsDomainIP</th>\n",
              "      <th>TLD</th>\n",
              "      <th>CharContinuationRate</th>\n",
              "      <th>TLDLegitimateProb</th>\n",
              "      <th>...</th>\n",
              "      <th>Pay</th>\n",
              "      <th>Crypto</th>\n",
              "      <th>HasCopyrightInfo</th>\n",
              "      <th>NoOfImage</th>\n",
              "      <th>NoOfCSS</th>\n",
              "      <th>NoOfJS</th>\n",
              "      <th>NoOfSelfRef</th>\n",
              "      <th>NoOfEmptyRef</th>\n",
              "      <th>NoOfExternalRef</th>\n",
              "      <th>label</th>\n",
              "    </tr>\n",
              "  </thead>\n",
              "  <tbody>\n",
              "    <tr>\n",
              "      <th>0</th>\n",
              "      <td>1</td>\n",
              "      <td>NaN</td>\n",
              "      <td>https://www.northcm.ac.th</td>\n",
              "      <td>24.0</td>\n",
              "      <td>www.northcm.ac.th</td>\n",
              "      <td>17.0</td>\n",
              "      <td>0.0</td>\n",
              "      <td>NaN</td>\n",
              "      <td>0.800000</td>\n",
              "      <td>NaN</td>\n",
              "      <td>...</td>\n",
              "      <td>0.0</td>\n",
              "      <td>0.0</td>\n",
              "      <td>1.0</td>\n",
              "      <td>NaN</td>\n",
              "      <td>3.0</td>\n",
              "      <td>NaN</td>\n",
              "      <td>69.0</td>\n",
              "      <td>NaN</td>\n",
              "      <td>NaN</td>\n",
              "      <td>1</td>\n",
              "    </tr>\n",
              "    <tr>\n",
              "      <th>1</th>\n",
              "      <td>4</td>\n",
              "      <td>8135291.txt</td>\n",
              "      <td>http://uqr.to/1il1z</td>\n",
              "      <td>NaN</td>\n",
              "      <td>NaN</td>\n",
              "      <td>NaN</td>\n",
              "      <td>NaN</td>\n",
              "      <td>to</td>\n",
              "      <td>1.000000</td>\n",
              "      <td>0.000896</td>\n",
              "      <td>...</td>\n",
              "      <td>NaN</td>\n",
              "      <td>0.0</td>\n",
              "      <td>0.0</td>\n",
              "      <td>NaN</td>\n",
              "      <td>NaN</td>\n",
              "      <td>NaN</td>\n",
              "      <td>NaN</td>\n",
              "      <td>NaN</td>\n",
              "      <td>1.0</td>\n",
              "      <td>0</td>\n",
              "    </tr>\n",
              "    <tr>\n",
              "      <th>2</th>\n",
              "      <td>5</td>\n",
              "      <td>586561.txt</td>\n",
              "      <td>https://www.woolworthsrewards.com.au</td>\n",
              "      <td>35.0</td>\n",
              "      <td>www.woolworthsrewards.com.au</td>\n",
              "      <td>28.0</td>\n",
              "      <td>0.0</td>\n",
              "      <td>au</td>\n",
              "      <td>0.857143</td>\n",
              "      <td>NaN</td>\n",
              "      <td>...</td>\n",
              "      <td>1.0</td>\n",
              "      <td>0.0</td>\n",
              "      <td>1.0</td>\n",
              "      <td>33.0</td>\n",
              "      <td>7.0</td>\n",
              "      <td>8.0</td>\n",
              "      <td>15.0</td>\n",
              "      <td>NaN</td>\n",
              "      <td>2.0</td>\n",
              "      <td>1</td>\n",
              "    </tr>\n",
              "    <tr>\n",
              "      <th>3</th>\n",
              "      <td>6</td>\n",
              "      <td>NaN</td>\n",
              "      <td>NaN</td>\n",
              "      <td>31.0</td>\n",
              "      <td>NaN</td>\n",
              "      <td>NaN</td>\n",
              "      <td>NaN</td>\n",
              "      <td>com</td>\n",
              "      <td>0.562500</td>\n",
              "      <td>0.522907</td>\n",
              "      <td>...</td>\n",
              "      <td>1.0</td>\n",
              "      <td>0.0</td>\n",
              "      <td>1.0</td>\n",
              "      <td>24.0</td>\n",
              "      <td>5.0</td>\n",
              "      <td>14.0</td>\n",
              "      <td>NaN</td>\n",
              "      <td>NaN</td>\n",
              "      <td>NaN</td>\n",
              "      <td>1</td>\n",
              "    </tr>\n",
              "    <tr>\n",
              "      <th>4</th>\n",
              "      <td>11</td>\n",
              "      <td>412632.txt</td>\n",
              "      <td>NaN</td>\n",
              "      <td>NaN</td>\n",
              "      <td>www.nyprowrestling.com</td>\n",
              "      <td>22.0</td>\n",
              "      <td>0.0</td>\n",
              "      <td>NaN</td>\n",
              "      <td>1.000000</td>\n",
              "      <td>NaN</td>\n",
              "      <td>...</td>\n",
              "      <td>0.0</td>\n",
              "      <td>0.0</td>\n",
              "      <td>1.0</td>\n",
              "      <td>NaN</td>\n",
              "      <td>NaN</td>\n",
              "      <td>14.0</td>\n",
              "      <td>NaN</td>\n",
              "      <td>0.0</td>\n",
              "      <td>NaN</td>\n",
              "      <td>1</td>\n",
              "    </tr>\n",
              "  </tbody>\n",
              "</table>\n",
              "<p>5 rows × 56 columns</p>\n",
              "</div>"
            ],
            "text/plain": [
              "   id     FILENAME                                   URL  URLLength  \\\n",
              "0   1          NaN             https://www.northcm.ac.th       24.0   \n",
              "1   4  8135291.txt                   http://uqr.to/1il1z        NaN   \n",
              "2   5   586561.txt  https://www.woolworthsrewards.com.au       35.0   \n",
              "3   6          NaN                                   NaN       31.0   \n",
              "4  11   412632.txt                                   NaN        NaN   \n",
              "\n",
              "                         Domain  DomainLength  IsDomainIP  TLD  \\\n",
              "0             www.northcm.ac.th          17.0         0.0  NaN   \n",
              "1                           NaN           NaN         NaN   to   \n",
              "2  www.woolworthsrewards.com.au          28.0         0.0   au   \n",
              "3                           NaN           NaN         NaN  com   \n",
              "4        www.nyprowrestling.com          22.0         0.0  NaN   \n",
              "\n",
              "   CharContinuationRate  TLDLegitimateProb  ...  Pay  Crypto  \\\n",
              "0              0.800000                NaN  ...  0.0     0.0   \n",
              "1              1.000000           0.000896  ...  NaN     0.0   \n",
              "2              0.857143                NaN  ...  1.0     0.0   \n",
              "3              0.562500           0.522907  ...  1.0     0.0   \n",
              "4              1.000000                NaN  ...  0.0     0.0   \n",
              "\n",
              "   HasCopyrightInfo  NoOfImage  NoOfCSS  NoOfJS  NoOfSelfRef  NoOfEmptyRef  \\\n",
              "0               1.0        NaN      3.0     NaN         69.0           NaN   \n",
              "1               0.0        NaN      NaN     NaN          NaN           NaN   \n",
              "2               1.0       33.0      7.0     8.0         15.0           NaN   \n",
              "3               1.0       24.0      5.0    14.0          NaN           NaN   \n",
              "4               1.0        NaN      NaN    14.0          NaN           0.0   \n",
              "\n",
              "   NoOfExternalRef  label  \n",
              "0              NaN      1  \n",
              "1              1.0      0  \n",
              "2              2.0      1  \n",
              "3              NaN      1  \n",
              "4              NaN      1  \n",
              "\n",
              "[5 rows x 56 columns]"
            ]
          },
          "execution_count": 28,
          "metadata": {},
          "output_type": "execute_result"
        }
      ],
      "source": [
        "if 'df_original' not in globals():\n",
        "    df_original = pd.read_csv('https://drive.google.com/uc?id=1w8DnxXGwaF1dLKlMxmXWVQFOH4vcvfTp')\n",
        "\n",
        "df = df_original.copy()\n",
        "df.head()"
      ]
    },
    {
      "cell_type": "code",
      "execution_count": 29,
      "metadata": {},
      "outputs": [],
      "source": [
        "#Drop kolom yang tidak digunakan\n",
        "df = df.drop(columns=['FILENAME'])"
      ]
    },
    {
      "cell_type": "markdown",
      "metadata": {
        "id": "gvx-gT3bLfHM"
      },
      "source": [
        "# 1. Split Training Set and Validation Set\n",
        "\n",
        "Splitting the training and validation set works as an early diagnostic towards the performance of the model we train. This is done before the preprocessing steps to **avoid data leakage inbetween the sets**. If you want to use k-fold cross-validation, split the data later and do the cleaning and preprocessing separately for each split.\n",
        "\n",
        "Note: For training, you should use the data contained in the `train` folder given by the TA. The `test` data is only used for kaggle submission."
      ]
    },
    {
      "cell_type": "code",
      "execution_count": 30,
      "metadata": {
        "id": "4yWCUFFBLfHM"
      },
      "outputs": [
        {
          "name": "stdout",
          "output_type": "stream",
          "text": [
            "Ukuran training set: 112323\n",
            "Ukuran validation set: 28081\n"
          ]
        }
      ],
      "source": [
        "train_set, val_set = train_test_split(df, test_size=0.2, random_state=42, shuffle=True)\n",
        "\n",
        "print(f\"Ukuran training set: {len(train_set)}\")\n",
        "print(f\"Ukuran validation set: {len(val_set)}\")"
      ]
    },
    {
      "cell_type": "markdown",
      "metadata": {
        "id": "IC14lmo_LfHN"
      },
      "source": [
        "# 2. Data Cleaning and Preprocessing\n",
        "\n",
        "This step is the first thing to be done once a Data Scientist have grasped a general knowledge of the data. Raw data is **seldom ready for training**, therefore steps need to be taken to clean and format the data for the Machine Learning model to interpret.\n",
        "\n",
        "By performing data cleaning and preprocessing, you ensure that your dataset is ready for model training, leading to more accurate and reliable machine learning results. These steps are essential for transforming raw data into a format that machine learning algorithms can effectively learn from and make predictions.\n",
        "\n",
        "We will give some common methods for you to try, but you only have to **at least implement one method for each process**. For each step that you will do, **please explain the reason why did you do that process. Write it in a markdown cell under the code cell you wrote.**"
      ]
    },
    {
      "cell_type": "markdown",
      "metadata": {
        "id": "p95_A8hSLfHY"
      },
      "source": [
        "## A. Data Cleaning\n",
        "\n",
        "**Data cleaning** is the crucial first step in preparing your dataset for machine learning. Raw data collected from various sources is often messy and may contain errors, missing values, and inconsistencies. Data cleaning involves the following steps:\n",
        "\n",
        "1. **Handling Missing Data:** Identify and address missing values in the dataset. This can include imputing missing values, removing rows or columns with excessive missing data, or using more advanced techniques like interpolation.\n",
        "\n",
        "2. **Dealing with Outliers:** Identify and handle outliers, which are data points significantly different from the rest of the dataset. Outliers can be removed or transformed to improve model performance.\n",
        "\n",
        "3. **Data Validation:** Check for data integrity and consistency. Ensure that data types are correct, categorical variables have consistent labels, and numerical values fall within expected ranges.\n",
        "\n",
        "4. **Removing Duplicates:** Identify and remove duplicate rows, as they can skew the model's training process and evaluation metrics.\n",
        "\n",
        "5. **Feature Engineering**: Create new features or modify existing ones to extract relevant information. This step can involve scaling, normalizing, or encoding features for better model interpretability."
      ]
    },
    {
      "cell_type": "markdown",
      "metadata": {
        "id": "aO0ZEZ-s6Lu-"
      },
      "source": [
        "### I. Remove Duplicates\n",
        "Handling duplicate values is crucial because they can compromise data integrity, leading to inaccurate analysis and insights. Duplicate entries can bias machine learning models, causing overfitting and reducing their ability to generalize to new data. They also inflate the dataset size unnecessarily, increasing computational costs and processing times. Additionally, duplicates can distort statistical measures and lead to inconsistencies, ultimately affecting the reliability of data-driven decisions and reporting. Ensuring data quality by removing duplicates is essential for accurate, efficient, and consistent analysis."
      ]
    },
    {
      "cell_type": "code",
      "execution_count": 31,
      "metadata": {},
      "outputs": [
        {
          "name": "stdout",
          "output_type": "stream",
          "text": [
            "Jumlah duplikasi pada train_set: 0\n",
            "Jumlah duplikasi pada val_set: 0\n"
          ]
        }
      ],
      "source": [
        "train_duplicates = train_set.duplicated().sum()\n",
        "print(f\"Jumlah duplikasi pada train_set: {train_duplicates}\")\n",
        "\n",
        "val_duplicates = val_set.duplicated().sum()\n",
        "print(f\"Jumlah duplikasi pada val_set: {val_duplicates}\")"
      ]
    },
    {
      "cell_type": "markdown",
      "metadata": {},
      "source": [
        "Tidak ada duplikasi sehingga proses cukup sampai dipengecekkan. Remove duplikasi dipindahkan ke urutan teratas karena mudah untuk mengecekknya."
      ]
    },
    {
      "cell_type": "markdown",
      "metadata": {
        "id": "_wruGao9LfHZ"
      },
      "source": [
        "### II. Handling Missing Data\n",
        "\n",
        "Missing data can adversely affect the performance and accuracy of machine learning models. There are several strategies to handle missing data in machine learning:\n",
        "\n",
        "1. **Data Imputation:**\n",
        "\n",
        "    a. **Mean, Median, or Mode Imputation:** For numerical features, you can replace missing values with the mean, median, or mode of the non-missing values in the same feature. This method is simple and often effective when data is missing at random.\n",
        "\n",
        "    b. **Constant Value Imputation:** You can replace missing values with a predefined constant value (e.g., 0) if it makes sense for your dataset and problem.\n",
        "\n",
        "    c. **Imputation Using Predictive Models:** More advanced techniques involve using predictive models to estimate missing values. For example, you can train a regression model to predict missing numerical values or a classification model to predict missing categorical values.\n",
        "\n",
        "2. **Deletion of Missing Data:**\n",
        "\n",
        "    a. **Listwise Deletion:** In cases where the amount of missing data is relatively small, you can simply remove rows with missing values from your dataset. However, this approach can lead to a loss of valuable information.\n",
        "\n",
        "    b. **Column (Feature) Deletion:** If a feature has a large number of missing values and is not critical for your analysis, you can consider removing that feature altogether.\n",
        "\n",
        "3. **Domain-Specific Strategies:**\n",
        "\n",
        "    a. **Domain Knowledge:** In some cases, domain knowledge can guide the imputation process. For example, if you know that missing values are related to a specific condition, you can impute them accordingly.\n",
        "\n",
        "4. **Imputation Libraries:**\n",
        "\n",
        "    a. **Scikit-Learn:** Scikit-Learn provides a `SimpleImputer` class that can handle basic imputation strategies like mean, median, and mode imputation.\n",
        "\n",
        "    b. **Fancyimpute:** Fancyimpute is a Python library that offers more advanced imputation techniques, including matrix factorization, k-nearest neighbors, and deep learning-based methods.\n",
        "\n",
        "The choice of imputation method should be guided by the nature of your data, the amount of missing data, the problem you are trying to solve, and the assumptions you are willing to make."
      ]
    },
    {
      "cell_type": "code",
      "execution_count": 32,
      "metadata": {},
      "outputs": [
        {
          "name": "stdout",
          "output_type": "stream",
          "text": [
            "                            Missing Count  Percentage\n",
            "Domain                              56165   50.003116\n",
            "NoOfExternalRef                     55498   49.409293\n",
            "LineOfCode                          55243   49.182269\n",
            "HasSocialNet                        54473   48.496746\n",
            "LargestLineLength                   54339   48.377447\n",
            "NoOfURLRedirect                     53986   48.063175\n",
            "HasCopyrightInfo                    53909   47.994623\n",
            "NoOfSelfRedirect                    53549   47.674118\n",
            "NoOfCSS                             53549   47.674118\n",
            "NoOfObfuscatedChar                  53460   47.594883\n",
            "HasPasswordField                    53344   47.491609\n",
            "LetterRatioInURL                    52644   46.868406\n",
            "HasObfuscation                      52518   46.756230\n",
            "ObfuscationRatio                    51714   46.040437\n",
            "NoOfLettersInURL                    50650   45.093169\n",
            "SpacialCharRatioInURL               50197   44.689868\n",
            "NoOfEqualsInURL                     49236   43.834299\n",
            "HasSubmitButton                     49168   43.773760\n",
            "NoOfJS                              48660   43.321492\n",
            "URLLength                           48513   43.190620\n",
            "NoOfDegitsInURL                     46915   41.767937\n",
            "HasFavicon                          46786   41.653090\n",
            "Title                               46690   41.567622\n",
            "HasExternalFormSubmit               44579   39.688221\n",
            "Bank                                44070   39.235063\n",
            "HasDescription                      43685   38.892302\n",
            "DegitRatioInURL                     42874   38.170277\n",
            "TLDLegitimateProb                   42428   37.773208\n",
            "URLCharProb                         41769   37.186507\n",
            "URLTitleMatchScore                  41745   37.165140\n",
            "NoOfImage                           40342   35.916063\n",
            "Crypto                              40220   35.807448\n",
            "DomainTitleMatchScore               39957   35.573302\n",
            "NoOfiFrame                          39801   35.434417\n",
            "IsHTTPS                             39438   35.111242\n",
            "NoOfSelfRef                         38461   34.241429\n",
            "CharContinuationRate                38384   34.172876\n",
            "TLDLength                           38186   33.996599\n",
            "NoOfOtherSpecialCharsInURL          38026   33.854153\n",
            "Robots                              37518   33.401886\n",
            "DomainLength                        36975   32.918458\n",
            "NoOfAmpersandInURL                  36289   32.307720\n",
            "TLD                                 36286   32.305049\n",
            "HasTitle                            35597   31.691639\n",
            "NoOfSubDomain                       35398   31.514472\n",
            "NoOfQMarkInURL                      35222   31.357781\n",
            "HasHiddenFields                     34988   31.149453\n",
            "NoOfPopup                           34780   30.964273\n",
            "URL                                 34672   30.868121\n",
            "Pay                                 34647   30.845864\n",
            "NoOfEmptyRef                        34114   30.371340\n",
            "IsResponsive                        34048   30.312581\n",
            "IsDomainIP                          33678   29.983174\n"
          ]
        }
      ],
      "source": [
        "#Memeriksa Missing Value\n",
        "missing_count = train_set.isnull().sum()\n",
        "\n",
        "missing_percentage = (missing_count / len(train_set)) * 100\n",
        "\n",
        "missing_data = pd.DataFrame({\n",
        "    'Missing Count': missing_count,\n",
        "    'Percentage': missing_percentage\n",
        "})\n",
        "\n",
        "missing_data_sorted = missing_data.sort_values(by='Missing Count', ascending=False)\n",
        "\n",
        "print(missing_data_sorted[missing_data_sorted['Missing Count'] > 0])\n"
      ]
    },
    {
      "cell_type": "code",
      "execution_count": null,
      "metadata": {},
      "outputs": [],
      "source": [
        "#identifikasi "
      ]
    },
    {
      "cell_type": "markdown",
      "metadata": {
        "id": "zgrSMcK75VY_"
      },
      "source": [
        "### II. Dealing with Outliers\n",
        "\n",
        "Outliers are data points that significantly differ from the majority of the data. They can be unusually high or low values that do not fit the pattern of the rest of the dataset. Outliers can significantly impact model performance, so it is important to handle them properly.\n",
        "\n",
        "Some methods to handle outliers:\n",
        "1. **Imputation**: Replace with mean, median, or a boundary value.\n",
        "2. **Clipping**: Cap values to upper and lower limits.\n",
        "3. **Transformation**: Use log, square root, or power transformations to reduce their influence.\n",
        "4. **Model-Based**: Use algorithms robust to outliers (e.g., tree-based models, Huber regression)."
      ]
    },
    {
      "cell_type": "code",
      "execution_count": null,
      "metadata": {},
      "outputs": [],
      "source": [
        "def analyze_distribution(dataframe, numerical_cols):\n",
        "    \"\"\"\n",
        "    Menganalisis distribusi data untuk kolom numerik.\n",
        "    Menampilkan statistik deskriptif untuk diputuskan metode outlier.\n",
        "    \"\"\"\n",
        "    analysis_results = []\n",
        "\n",
        "    print(\"Statistik Deskriptif untuk Kolom Numerik:\")\n",
        "    print(\"=\" * 50)\n",
        "    for col in numerical_cols:\n",
        "        col_data = dataframe[col].dropna()  \n",
        "        \n",
        "        \n",
        "        mean = col_data.mean()\n",
        "        median = col_data.median()\n",
        "        std = col_data.std()\n",
        "        skewness = col_data.skew()\n",
        "        min_val = col_data.min()\n",
        "        max_val = col_data.max()\n",
        "        \n",
        "        \n",
        "        analysis_results.append({\n",
        "            \"Column\": col,\n",
        "            \"Mean\": mean,\n",
        "            \"Median\": median,\n",
        "            \"Std Dev\": std,\n",
        "            \"Skewness\": skewness,\n",
        "            \"Min\": min_val,\n",
        "            \"Max\": max_val\n",
        "        })\n",
        "        \n",
        "        \n",
        "        print(f\"Column: {col}\")\n",
        "        print(f\"  Mean: {mean}\")\n",
        "        print(f\"  Median: {median}\")\n",
        "        print(f\"  Std Dev: {std}\")\n",
        "        print(f\"  Skewness: {skewness}\")\n",
        "        print(f\"  Min: {min_val}\")\n",
        "        print(f\"  Max: {max_val}\")\n",
        "        print(\"-\" * 50)\n",
        "\n",
        "    return pd.DataFrame(analysis_results)\n",
        "\n",
        "\n",
        "numerical_analysis = analyze_distribution(train_set, numerical_cols)\n",
        "\n"
      ]
    },
    {
      "cell_type": "code",
      "execution_count": 314,
      "metadata": {
        "id": "CgbZ6Lv17Uf0"
      },
      "outputs": [],
      "source": [
        "class OutlierHandler(BaseEstimator, TransformerMixin):\n",
        "    def __init__(self, method='clip', threshold=1.5, zscore_threshold=3):\n",
        "        self.method = method\n",
        "        self.threshold = threshold\n",
        "        self.zscore_threshold = zscore_threshold\n",
        "\n",
        "    def fit(self, X, y=None):\n",
        "        if isinstance(X, pd.DataFrame):\n",
        "            self.q1 = X.quantile(0.25)\n",
        "            self.q3 = X.quantile(0.75)\n",
        "        else:\n",
        "            self.q1 = np.quantile(X, 0.25, axis=0)\n",
        "            self.q3 = np.quantile(X, 0.75, axis=0)\n",
        "        self.iqr = self.q3 - self.q1\n",
        "        self.mean = X.mean()\n",
        "        self.std = X.std()\n",
        "        return self\n",
        "    \n",
        "    def transform(self, X):\n",
        "        X = X.copy()\n",
        "        if self.method == 'clip':\n",
        "            lower_bound = self.q1 - self.threshold * self.iqr\n",
        "            upper_bound = self.q3 + self.threshold * self.iqr\n",
        "            X = X.clip(lower=lower_bound, upper=upper_bound, axis=1)\n",
        "        elif self.method == 'zscore':\n",
        "            z_scores = (X - self.mean) / self.std\n",
        "            lower_bound = -self.zscore_threshold\n",
        "            upper_bound = self.zscore_threshold\n",
        "            X = X.clip(lower=lower_bound, upper=upper_bound)\n",
        "        elif self.method == 'median':\n",
        "            lower_bound = self.q1 - self.threshold * self.iqr\n",
        "            upper_bound = self.q3 + self.threshold * self.iqr\n",
        "            for col in X.columns:\n",
        "                X[col] = np.where(\n",
        "                    (X[col] < lower_bound[col]) | (X[col] > upper_bound[col]),\n",
        "                    X[col].median(),\n",
        "                    X[col]\n",
        "                )\n",
        "        return X"
      ]
    },
    {
      "cell_type": "code",
      "execution_count": 256,
      "metadata": {},
      "outputs": [],
      "source": [
        "numerical_pipeline = Pipeline(steps=[\n",
        "    ('outlier_handler', OutlierHandler(method='clip')),\n",
        "    ('imputer', SimpleImputer(strategy='median'))\n",
        "])\n",
        "\n",
        "categorical_pipeline = Pipeline(steps=[\n",
        "    ('imputer', SimpleImputer(strategy='most_frequent'))\n",
        "])\n",
        "\n",
        "binary_pipeline = Pipeline(steps=[\n",
        "    ('imputer', SimpleImputer(strategy='most_frequent'))\n",
        "])\n",
        "\n",
        "preprocessor = ColumnTransformer(transformers=[\n",
        "    ('numerical', numerical_pipeline, numerical_cols),\n",
        "    ('categorical', categorical_pipeline, categorical_cols),\n",
        "    ('binary', binary_pipeline, binary_cols)\n",
        "])\n",
        "\n",
        "pipeline = Pipeline(steps=[\n",
        "    ('preprocessor', preprocessor)\n",
        "])"
      ]
    },
    {
      "cell_type": "code",
      "execution_count": null,
      "metadata": {},
      "outputs": [],
      "source": [
        "train_set_processed = pipeline.fit_transform(train_set)\n",
        "val_set_processed = pipeline.transform(val_set)\n",
        "\n",
        "train_set = pd.DataFrame(train_set_processed, columns=numerical_cols + categorical_cols + binary_cols)\n",
        "val_set = pd.DataFrame(val_set_processed, columns=numerical_cols + categorical_cols + binary_cols)"
      ]
    },
    {
      "cell_type": "code",
      "execution_count": null,
      "metadata": {},
      "outputs": [],
      "source": [
        "import matplotlib.pyplot as plt\n",
        "\n",
        "def plot_distributions(dataframe, columns, n_cols=4, figsize=(16, 4)):\n",
        "    \"\"\"\n",
        "    Membuat grafik distribusi untuk setiap kolom numerik dalam DataFrame.\n",
        "    Menampilkan 4 grafik per baris.\n",
        "    \"\"\"\n",
        "    n_rows = (len(columns) + n_cols - 1) // n_cols  \n",
        "    fig, axes = plt.subplots(n_rows, n_cols, figsize=(figsize[0], figsize[1] * n_rows))\n",
        "    axes = axes.flatten()  \n",
        "\n",
        "    for i, col in enumerate(columns):\n",
        "        ax = axes[i]\n",
        "        ax.hist(dataframe[col], bins=30, edgecolor='k', alpha=0.7)\n",
        "        ax.set_title(f\"Distribution of {col}\")\n",
        "        ax.set_xlabel(col)\n",
        "        ax.set_ylabel(\"Frequency\")\n",
        "        ax.grid(axis='y', linestyle='--', alpha=0.7)\n",
        "    \n",
        "    \n",
        "    for j in range(len(columns), len(axes)):\n",
        "        fig.delaxes(axes[j])\n",
        "    \n",
        "    plt.tight_layout()\n",
        "    plt.show()\n",
        "\n",
        "\n",
        "plot_distributions(train_set, numerical_cols, n_cols=4, figsize=(16, 4))\n"
      ]
    },
    {
      "cell_type": "code",
      "execution_count": null,
      "metadata": {
        "id": "BHCkkZ-v7iF8"
      },
      "outputs": [],
      "source": [
        "#Tidak ada duplikasi\n",
        "duplicates_count = df.duplicated().sum()\n",
        "print(f\"Jumlah baris duplikat: {duplicates_count}\")"
      ]
    },
    {
      "cell_type": "markdown",
      "metadata": {
        "id": "eycPASmMLfHa"
      },
      "source": [
        "### IV. Feature Engineering\n",
        "\n",
        "**Feature engineering** involves creating new features (input variables) or transforming existing ones to improve the performance of machine learning models. Feature engineering aims to enhance the model's ability to learn patterns and make accurate predictions from the data. It's often said that \"good features make good models.\"\n",
        "\n",
        "1. **Feature Selection:** Feature engineering can involve selecting the most relevant and informative features from the dataset. Removing irrelevant or redundant features not only simplifies the model but also reduces the risk of overfitting.\n",
        "\n",
        "2. **Creating New Features:** Sometimes, the existing features may not capture the underlying patterns effectively. In such cases, engineers create new features that provide additional information. For example:\n",
        "   \n",
        "   - **Polynomial Features:** Engineers may create new features by taking the square, cube, or other higher-order terms of existing numerical features. This can help capture nonlinear relationships.\n",
        "   \n",
        "   - **Interaction Features:** Interaction features are created by combining two or more existing features. For example, if you have features \"length\" and \"width,\" you can create an \"area\" feature by multiplying them.\n",
        "\n",
        "3. **Binning or Discretization:** Continuous numerical features can be divided into bins or categories. For instance, age values can be grouped into bins like \"child,\" \"adult,\" and \"senior.\"\n",
        "\n",
        "4. **Domain-Specific Feature Engineering:** Depending on the domain and problem, engineers may create domain-specific features. For example, in fraud detection, features related to transaction history and user behavior may be engineered to identify anomalies.\n",
        "\n",
        "Feature engineering is both a creative and iterative process. It requires a deep understanding of the data, domain knowledge, and experimentation to determine which features will enhance the model's predictive power."
      ]
    },
    {
      "cell_type": "code",
      "execution_count": null,
      "metadata": {},
      "outputs": [],
      "source": [
        "def analyze_distribution(dataframe, numerical_cols, categorical_cols, binary_cols, target_col):\n",
        "    print(\"**Analisis Statistik Numerik**\")\n",
        "    print(dataframe[numerical_cols].describe().T)\n",
        "\n",
        "    print(\"\\n**Distribusi Target**\")\n",
        "    print(dataframe[target_col].value_counts(normalize=True))\n",
        "\n",
        "    print(\"\\n**Distribusi Biner**\")\n",
        "    for col in binary_cols:\n",
        "        print(f\"\\n{col}:\")\n",
        "        print(dataframe[col].value_counts(normalize=True))\n",
        "\n",
        "    print(\"\\n**Distribusi Kategorikal**\")\n",
        "    for col in categorical_cols:\n",
        "        print(f\"\\n{col}:\")\n",
        "        print(dataframe[col].value_counts(normalize=True))\n",
        "        \n",
        "analyze_distribution(train_set, numerical_cols, categorical_cols, binary_cols, target_col='label')"
      ]
    },
    {
      "cell_type": "code",
      "execution_count": null,
      "metadata": {},
      "outputs": [],
      "source": [
        "def analyze_correlation(dataframe, numerical_cols, target_col):\n",
        "    \"\"\"\n",
        "    Menganalisis korelasi antar fitur numerik dan target.\n",
        "    Menampilkan korelasi dalam bentuk angka.\n",
        "    \"\"\"\n",
        "    \n",
        "    correlation_matrix = dataframe[numerical_cols + [target_col]].corr()\n",
        "    \n",
        "    \n",
        "    print(\"\\n**Korelasi terhadap Target:**\")\n",
        "    target_corr = correlation_matrix[target_col].sort_values(ascending=False)\n",
        "    print(target_corr)\n",
        "\n",
        "    \n",
        "    print(\"\\n**Matriks Korelasi Lengkap:**\")\n",
        "    print(correlation_matrix)\n",
        "analyze_correlation(train_set, numerical_cols, target_col='label')\n"
      ]
    },
    {
      "cell_type": "code",
      "execution_count": null,
      "metadata": {},
      "outputs": [],
      "source": [
        "\n",
        "redundant_features = [\n",
        "    'CharContinuationRate', 'NoOfSubDomain', 'NoOfObfuscatedChar', \n",
        "    'ObfuscationRatio', 'NoOfDegitsInURL', 'DegitRatioInURL', \n",
        "    'NoOfEqualsInURL', 'NoOfQMarkInURL', 'NoOfAmpersandInURL', \n",
        "    'NoOfOtherSpecialCharsInURL', 'NoOfPopup'\n",
        "]\n",
        "\n",
        "\n",
        "low_correlation_features = ['TLDLength', 'DomainLength', 'LetterRatioInURL', 'NoOfLettersInURL']\n",
        "\n",
        "\n",
        "features_to_drop = redundant_features + low_correlation_features\n",
        "\n",
        "\n",
        "train_set.drop(columns=features_to_drop, inplace=True)\n",
        "val_set.drop(columns=features_to_drop, inplace=True)\n",
        "\n",
        "print(f\"Fitur yang dihapus: {features_to_drop}\")\n"
      ]
    },
    {
      "cell_type": "code",
      "execution_count": null,
      "metadata": {},
      "outputs": [],
      "source": [
        "\n",
        "train_set['URLLength_x_NoOfImage'] = train_set['URLLength'] * train_set['NoOfImage']\n",
        "train_set['LargestLineLength_x_NoOfSelfRef'] = train_set['LargestLineLength'] * train_set['NoOfSelfRef']\n",
        "val_set['URLLength_x_NoOfImage'] = val_set['URLLength'] * val_set['NoOfImage']\n",
        "val_set['LargestLineLength_x_NoOfSelfRef'] = val_set['LargestLineLength'] * val_set['NoOfSelfRef']\n",
        "\n",
        "print(f\"Jumlah fitur setelah menambahkan Interaction Features: {train_set.shape[1]}\")\n"
      ]
    },
    {
      "cell_type": "code",
      "execution_count": null,
      "metadata": {},
      "outputs": [],
      "source": [
        "from sklearn.preprocessing import KBinsDiscretizer\n",
        "\n",
        "\n",
        "binner = KBinsDiscretizer(n_bins=3, encode='ordinal', strategy='uniform')\n",
        "train_set['LargestLineLength_binned'] = binner.fit_transform(train_set[['LargestLineLength']])\n",
        "val_set['LargestLineLength_binned'] = binner.transform(val_set[['LargestLineLength']])\n",
        "\n",
        "print(f\"Jumlah fitur setelah Binning: {train_set.shape[1]}\")"
      ]
    },
    {
      "cell_type": "code",
      "execution_count": null,
      "metadata": {},
      "outputs": [],
      "source": [
        "# Periksa kesamaan kolom\n",
        "missing_in_val = set(train_set.columns) - set(val_set.columns)\n",
        "missing_in_train = set(val_set.columns) - set(train_set.columns)\n",
        "\n",
        "print(\"Kolom di train_set tetapi tidak ada di val_set:\", missing_in_val)\n",
        "print(\"Kolom di val_set tetapi tidak ada di train_set:\", missing_in_train)\n"
      ]
    },
    {
      "cell_type": "code",
      "execution_count": null,
      "metadata": {},
      "outputs": [],
      "source": [
        "# Periksa tipe data semua fitur\n",
        "print(\"Tipe data semua fitur di train_set:\\n\", train_set.dtypes)\n",
        "\n",
        "# Hitung jumlah fitur numerik\n",
        "numerical_features = train_set.select_dtypes(include=['float64', 'int64']).columns\n",
        "print(\"Fitur numerik di train_set:\", numerical_features)\n",
        "print(f\"Jumlah fitur numerik: {len(numerical_features)}\")\n"
      ]
    },
    {
      "cell_type": "markdown",
      "metadata": {
        "id": "xw11_49xLfHb"
      },
      "source": [
        "## B. Data Preprocessing\n",
        "\n",
        "**Data preprocessing** is a broader step that encompasses both data cleaning and additional transformations to make the data suitable for machine learning algorithms. Its primary goals are:\n",
        "\n",
        "1. **Feature Scaling:** Ensure that numerical features have similar scales. Common techniques include Min-Max scaling (scaling to a specific range) or standardization (mean-centered, unit variance).\n",
        "\n",
        "2. **Encoding Categorical Variables:** Machine learning models typically work with numerical data, so categorical variables need to be encoded. This can be done using one-hot encoding, label encoding, or more advanced methods like target encoding.\n",
        "\n",
        "3. **Handling Imbalanced Classes:** If dealing with imbalanced classes in a binary classification task, apply techniques such as oversampling, undersampling, or using different evaluation metrics to address class imbalance.\n",
        "\n",
        "4. **Dimensionality Reduction:** Reduce the number of features using techniques like Principal Component Analysis (PCA) or feature selection to simplify the model and potentially improve its performance.\n",
        "\n",
        "5. **Normalization:** Normalize data to achieve a standard distribution. This is particularly important for algorithms that assume normally distributed data."
      ]
    },
    {
      "cell_type": "markdown",
      "metadata": {
        "id": "rVyVnA1hLfHd"
      },
      "source": [
        "### Notes on Preprocessing processes\n",
        "\n",
        "It is advised to create functions or classes that have the same/similar type of inputs and outputs, so you can add, remove, or swap the order of the processes easily. You can implement the functions or classes by yourself\n",
        "\n",
        "or\n",
        "\n",
        "use `sklearn` library. To create a new preprocessing component in `sklearn`, implement a corresponding class that includes:\n",
        "1. Inheritance to `BaseEstimator` and `TransformerMixin`\n",
        "2. The method `fit`\n",
        "3. The method `transform`"
      ]
    },
    {
      "cell_type": "code",
      "execution_count": 267,
      "metadata": {
        "id": "WbxHt-5eKz_I"
      },
      "outputs": [],
      "source": [
        "# Example\n",
        "\n",
        "# from sklearn.base import BaseEstimator, TransformerMixin\n",
        "\n",
        "# class FeatureEncoder(BaseEstimator, TransformerMixin):\n",
        "\n",
        "#     def fit(self, X, y=None):\n",
        "\n",
        "#         # Fit the encoder here\n",
        "\n",
        "#         return self\n",
        "\n",
        "#     def transform(self, X):\n",
        "#         X_encoded = X.copy()\n",
        "\n",
        "#         # Encode the categorical variables here\n",
        "\n",
        "#         return X_encoded"
      ]
    },
    {
      "cell_type": "markdown",
      "metadata": {
        "id": "WhCgOl4xLfHb"
      },
      "source": [
        "### I. Feature Scaling\n",
        "\n",
        "**Feature scaling** is a preprocessing technique used in machine learning to standardize the range of independent variables or features of data. The primary goal of feature scaling is to ensure that all features contribute equally to the training process and that machine learning algorithms can work effectively with the data.\n",
        "\n",
        "Here are the main reasons why feature scaling is important:\n",
        "\n",
        "1. **Algorithm Sensitivity:** Many machine learning algorithms are sensitive to the scale of input features. If the scales of features are significantly different, some algorithms may perform poorly or take much longer to converge.\n",
        "\n",
        "2. **Distance-Based Algorithms:** Algorithms that rely on distances or similarities between data points, such as k-nearest neighbors (KNN) and support vector machines (SVM), can be influenced by feature scales. Features with larger scales may dominate the distance calculations.\n",
        "\n",
        "3. **Regularization:** Regularization techniques, like L1 (Lasso) and L2 (Ridge) regularization, add penalty terms based on feature coefficients. Scaling ensures that all features are treated equally in the regularization process.\n",
        "\n",
        "Common methods for feature scaling include:\n",
        "\n",
        "1. **Min-Max Scaling (Normalization):** This method scales features to a specific range, typically [0, 1]. It's done using the following formula:\n",
        "\n",
        "   $$X' = \\frac{X - X_{min}}{X_{max} - X_{min}}$$\n",
        "\n",
        "   - Here, $X$ is the original feature value, $X_{min}$ is the minimum value of the feature, and $X_{max}$ is the maximum value of the feature.  \n",
        "<br />\n",
        "<br />\n",
        "2. **Standardization (Z-score Scaling):** This method scales features to have a mean (average) of 0 and a standard deviation of 1. It's done using the following formula:\n",
        "\n",
        "   $$X' = \\frac{X - \\mu}{\\sigma}$$\n",
        "\n",
        "   - $X$ is the original feature value, $\\mu$ is the mean of the feature, and $\\sigma$ is the standard deviation of the feature.  \n",
        "<br />\n",
        "<br />\n",
        "3. **Robust Scaling:** Robust scaling is a method that scales features to the interquartile range (IQR) and is less affected by outliers. It's calculated as:\n",
        "\n",
        "   $$X' = \\frac{X - Q1}{Q3 - Q1}$$\n",
        "\n",
        "   - $X$ is the original feature value, $Q1$ is the first quartile (25th percentile), and $Q3$ is the third quartile (75th percentile) of the feature.  \n",
        "<br />\n",
        "<br />\n",
        "4. **Log Transformation:** In cases where data is highly skewed or has a heavy-tailed distribution, taking the logarithm of the feature values can help stabilize the variance and improve scaling.\n",
        "\n",
        "The choice of scaling method depends on the characteristics of your data and the requirements of your machine learning algorithm. **Min-max scaling and standardization are the most commonly used techniques and work well for many datasets.**\n",
        "\n",
        "Scaling should be applied separately to each training and test set to prevent data leakage from the test set into the training set. Additionally, **some algorithms may not require feature scaling, particularly tree-based models.**"
      ]
    },
    {
      "cell_type": "code",
      "execution_count": 268,
      "metadata": {},
      "outputs": [],
      "source": [
        "from sklearn.preprocessing import StandardScaler\n",
        "\n",
        "# Identifikasi fitur numerik setelah menambahkan Interaction Features\n",
        "numerical_features = train_set.select_dtypes(include=['float64', 'int64']).columns\n",
        "\n",
        "# Inisialisasi scaler\n",
        "scaler = StandardScaler()\n",
        "\n",
        "# Fit pada train_set dan transform\n",
        "train_set[numerical_features] = scaler.fit_transform(train_set[numerical_features])\n",
        "\n",
        "# Transform pada val_set\n",
        "val_set[numerical_features] = scaler.transform(val_set[numerical_features])\n"
      ]
    },
    {
      "cell_type": "code",
      "execution_count": null,
      "metadata": {},
      "outputs": [],
      "source": [
        "print(\"Shape train_set:\", train_set.shape)\n",
        "print(\"Shape val_set:\", val_set.shape)\n"
      ]
    },
    {
      "cell_type": "markdown",
      "metadata": {
        "id": "f_Lh-4JwLfHc"
      },
      "source": []
    },
    {
      "cell_type": "markdown",
      "metadata": {},
      "source": [
        "### II. Feature Encoding\n",
        "\n",
        "**Feature encoding**, also known as **categorical encoding**, is the process of converting categorical data (non-numeric data) into a numerical format so that it can be used as input for machine learning algorithms. Most machine learning models require numerical data for training and prediction, so feature encoding is a critical step in data preprocessing.\n",
        "\n",
        "Categorical data can take various forms, including:\n",
        "\n",
        "1. **Nominal Data:** Categories with no intrinsic order, like colors or country names.  \n",
        "\n",
        "2. **Ordinal Data:** Categories with a meaningful order but not necessarily equidistant, like education levels (e.g., \"high school,\" \"bachelor's,\" \"master's\").\n",
        "\n",
        "There are several common methods for encoding categorical data:\n",
        "\n",
        "1. **Label Encoding:**\n",
        "\n",
        "   - Label encoding assigns a unique integer to each category in a feature.\n",
        "   - It's suitable for ordinal data where there's a clear order among categories.\n",
        "   - For example, if you have an \"education\" feature with values \"high school,\" \"bachelor's,\" and \"master's,\" you can encode them as 0, 1, and 2, respectively.\n",
        "<br />\n",
        "<br />\n",
        "2. **One-Hot Encoding:**\n",
        "\n",
        "   - One-hot encoding creates a binary (0 or 1) column for each category in a nominal feature.\n",
        "   - It's suitable for nominal data where there's no inherent order among categories.\n",
        "   - Each category becomes a new feature, and the presence (1) or absence (0) of a category is indicated for each row.\n",
        "<br />\n",
        "<br />\n",
        "3. **Target Encoding (Mean Encoding):**\n",
        "\n",
        "   - Target encoding replaces each category with the mean of the target variable for that category.\n",
        "   - It's often used for classification problems."
      ]
    },
    {
      "cell_type": "markdown",
      "metadata": {
        "id": "jKQO9wtB8Pc0"
      },
      "source": [
        "### III. Handling Imbalanced Dataset\n",
        "\n",
        "**Handling imbalanced datasets** is important because imbalanced data can lead to several issues that negatively impact the performance and reliability of machine learning models. Here are some key reasons:\n",
        "\n",
        "1. **Biased Model Performance**:\n",
        "\n",
        " - Models trained on imbalanced data tend to be biased towards the majority class, leading to poor performance on the minority class. This can result in misleading accuracy metrics.\n",
        "\n",
        "2. **Misleading Accuracy**:\n",
        "\n",
        " - High overall accuracy can be misleading in imbalanced datasets. For example, if 95% of the data belongs to one class, a model that always predicts the majority class will have 95% accuracy but will fail to identify the minority class.\n",
        "\n",
        "3. **Poor Generalization**:\n",
        "\n",
        " - Models trained on imbalanced data may not generalize well to new, unseen data, especially if the minority class is underrepresented.\n",
        "\n",
        "\n",
        "Some methods to handle imbalanced datasets:\n",
        "1. **Resampling Methods**:\n",
        "\n",
        " - Oversampling: Increase the number of instances in the minority class by duplicating or generating synthetic samples (e.g., SMOTE).\n",
        " - Undersampling: Reduce the number of instances in the majority class to balance the dataset.\n",
        "\n",
        "2. **Evaluation Metrics**:\n",
        "\n",
        " - Use appropriate evaluation metrics such as precision, recall, F1-score, ROC-AUC, and confusion matrix instead of accuracy to better assess model performance on imbalanced data.\n",
        "\n",
        "3. **Algorithmic Approaches**:\n",
        "\n",
        " - Use algorithms that are designed to handle imbalanced data, such as decision trees, random forests, or ensemble methods.\n",
        " - Adjust class weights in algorithms to give more importance to the minority class."
      ]
    },
    {
      "cell_type": "markdown",
      "metadata": {
        "id": "-ctVzt5DLfHd"
      },
      "source": [
        "# 3. Compile Preprocessing Pipeline\n",
        "\n",
        "All of the preprocessing classes or functions defined earlier will be compiled in this step."
      ]
    },
    {
      "cell_type": "markdown",
      "metadata": {
        "id": "S_ZlncSVjJG6"
      },
      "source": [
        "If you use sklearn to create preprocessing classes, you can list your preprocessing classes in the Pipeline object sequentially, and then fit and transform your data."
      ]
    },
    {
      "cell_type": "code",
      "execution_count": 270,
      "metadata": {
        "id": "jHraoW_7LfHd"
      },
      "outputs": [],
      "source": [
        "# from sklearn.pipeline import Pipeline\n",
        "\n",
        "# # Note: You can add or delete preprocessing components from this pipeline\n",
        "\n",
        "# pipe = Pipeline([(\"imputer\", FeatureImputer()),\n",
        "#                  (\"featurecreator\", FeatureCreator()),\n",
        "#                  (\"scaler\", FeatureScaler()),\n",
        "#                  (\"encoder\", FeatureEncoder())])\n",
        "\n",
        "# train_set = pipe.fit_transform(train_set)\n",
        "# val_set = pipe.transform(val_set)"
      ]
    },
    {
      "cell_type": "code",
      "execution_count": 271,
      "metadata": {
        "id": "9s56aFFxLfHd"
      },
      "outputs": [],
      "source": [
        "# # Your code should work up until this point\n",
        "# train_set = pipe.fit_transform(train_set)\n",
        "# val_set = pipe.transform(val_set)"
      ]
    },
    {
      "cell_type": "markdown",
      "metadata": {
        "id": "SXoCqMztjhr-"
      },
      "source": [
        "or create your own here"
      ]
    },
    {
      "cell_type": "code",
      "execution_count": 272,
      "metadata": {
        "id": "7OoZ3oXEj2CW"
      },
      "outputs": [],
      "source": [
        "# Write your code here"
      ]
    },
    {
      "cell_type": "markdown",
      "metadata": {
        "id": "9A3adbZXLfHe"
      },
      "source": [
        "# 4. Modeling and Validation\n",
        "\n",
        "Modelling is the process of building your own machine learning models to solve specific problems, or in this assignment context, predicting the target feature `label`. Validation is the process of evaluating your trained model using the validation set or cross-validation method and providing some metrics that can help you decide what to do in the next iteration of development."
      ]
    },
    {
      "cell_type": "markdown",
      "metadata": {
        "id": "ZnhMNbBILfHf"
      },
      "source": [
        "## A. KNN"
      ]
    },
    {
      "cell_type": "code",
      "execution_count": null,
      "metadata": {
        "id": "KV6ICmFmlqjk"
      },
      "outputs": [],
      "source": [
        "import numpy as np\n",
        "from collections import Counter\n",
        "\n",
        "class KNearestNeighbors:\n",
        "    def __init__(self, k=3):\n",
        "        self.k = k\n",
        "\n",
        "    def fit(self, X, y):\n",
        "        self.X_train = np.array(X)\n",
        "        self.y_train = np.array(y)\n",
        "\n",
        "    def predict(self, X):\n",
        "        X = np.array(X)\n",
        "        predictions = [self._predict_one(x) for x in X]\n",
        "        return np.array(predictions)\n",
        "\n",
        "    def _predict_one(self, x):\n",
        "        # Hitung jarak Euclidean\n",
        "        distances = np.sqrt(np.sum((self.X_train - x) ** 2, axis=1))\n",
        "        # Ambil k tetangga terdekat\n",
        "        k_indices = np.argsort(distances)[:self.k]\n",
        "        k_labels = self.y_train[k_indices]\n",
        "        # Voting mayoritas\n",
        "        most_common = Counter(k_labels).most_common(1)\n",
        "        return most_common[0][0]\n",
        "\n",
        "# Latih model\n",
        "knn_scratch = KNearestNeighbors(k=5)\n",
        "knn_scratch.fit(X_train_resampled, y_train_resampled)\n",
        "\n",
        "# Prediksi pada validation set\n",
        "y_pred_knn_scratch = knn_scratch.predict(X_val_preprocessed)\n"
      ]
    },
    {
      "cell_type": "code",
      "execution_count": null,
      "metadata": {},
      "outputs": [],
      "source": []
    },
    {
      "cell_type": "markdown",
      "metadata": {
        "id": "nW0bMzkDLfHf"
      },
      "source": [
        "## B. Naive Bayes"
      ]
    },
    {
      "cell_type": "code",
      "execution_count": 274,
      "metadata": {
        "id": "C_XwsN_-LfHg"
      },
      "outputs": [],
      "source": [
        "# Type your code here"
      ]
    },
    {
      "cell_type": "markdown",
      "metadata": {
        "id": "LoH2u6fOLfHh"
      },
      "source": [
        "## C. Improvements (Optional)\n",
        "\n",
        "- **Visualize the model evaluation result**\n",
        "\n",
        "This will help you to understand the details more clearly about your model's performance. From the visualization, you can see clearly if your model is leaning towards a class than the others. (Hint: confusion matrix, ROC-AUC curve, etc.)\n",
        "\n",
        "- **Explore the hyperparameters of your models**\n",
        "\n",
        "Each models have their own hyperparameters. And each of the hyperparameter have different effects on the model behaviour. You can optimize the model performance by finding the good set of hyperparameters through a process called **hyperparameter tuning**. (Hint: Grid search, random search, bayesian optimization)\n",
        "\n",
        "- **Cross-validation**\n",
        "\n",
        "Cross-validation is a critical technique in machine learning and data science for evaluating and validating the performance of predictive models. It provides a more **robust** and **reliable** evaluation method compared to a hold-out (single train-test set) validation. Though, it requires more time and computing power because of how cross-validation works. (Hint: k-fold cross-validation, stratified k-fold cross-validation, etc.)"
      ]
    },
    {
      "cell_type": "code",
      "execution_count": 275,
      "metadata": {
        "id": "pg-A54yELfHh"
      },
      "outputs": [],
      "source": [
        "# Type your code here"
      ]
    },
    {
      "cell_type": "markdown",
      "metadata": {
        "id": "Li4l53DjLfHh"
      },
      "source": [
        "## D. Submission\n",
        "To predict the test set target feature and submit the results to the kaggle competition platform, do the following:\n",
        "1. Create a new pipeline instance identical to the first in Data Preprocessing\n",
        "2. With the pipeline, apply `fit_transform` to the original training set before splitting, then only apply `transform` to the test set.\n",
        "3. Retrain the model on the preprocessed training set\n",
        "4. Predict the test set\n",
        "5. Make sure the submission contains the `id` and `label` column.\n",
        "\n",
        "Note: Adjust step 1 and 2 to your implementation of the preprocessing step if you don't use pipeline API from `sklearn`."
      ]
    },
    {
      "cell_type": "code",
      "execution_count": 276,
      "metadata": {
        "id": "LeqnfWc-LfHi"
      },
      "outputs": [],
      "source": [
        "# Type your code here"
      ]
    },
    {
      "cell_type": "markdown",
      "metadata": {
        "id": "R-jXvKOpLfHi"
      },
      "source": [
        "# 6. Error Analysis\n",
        "\n",
        "Based on all the process you have done until the modeling and evaluation step, write an analysis to support each steps you have taken to solve this problem. Write the analysis using the markdown block. Some questions that may help you in writing the analysis:\n",
        "\n",
        "- Does my model perform better in predicting one class than the other? If so, why is that?\n",
        "- To each models I have tried, which performs the best and what could be the reason?\n",
        "- Is it better for me to impute or drop the missing data? Why?\n",
        "- Does feature scaling help improve my model performance?\n",
        "- etc..."
      ]
    },
    {
      "cell_type": "markdown",
      "metadata": {
        "id": "tWL3nEAELfHj"
      },
      "source": [
        "`Provide your analysis here`"
      ]
    }
  ],
  "metadata": {
    "colab": {
      "provenance": []
    },
    "kernelspec": {
      "display_name": ".venv",
      "language": "python",
      "name": "python3"
    },
    "language_info": {
      "codemirror_mode": {
        "name": "ipython",
        "version": 3
      },
      "file_extension": ".py",
      "mimetype": "text/x-python",
      "name": "python",
      "nbconvert_exporter": "python",
      "pygments_lexer": "ipython3",
      "version": "3.13.1"
    }
  },
  "nbformat": 4,
  "nbformat_minor": 0
}
