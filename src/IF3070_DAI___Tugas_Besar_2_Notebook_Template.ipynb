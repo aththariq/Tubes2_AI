{
  "cells": [
    {
      "cell_type": "markdown",
      "metadata": {
        "id": "uR1JW69eLfG_"
      },
      "source": [
        "# IF3070 Foundations of Artificial Intelligence | Tugas Besar 2\n",
        "\n",
        "This notebook serves as a template for the assignment. Please create a copy of this notebook to complete your work. You can add more code blocks, markdown blocks, or new sections if needed.\n"
      ]
    },
    {
      "cell_type": "markdown",
      "metadata": {
        "id": "ucbaI5rBLtjJ"
      },
      "source": [
        "Group Number: 08\n",
        "\n",
        "Group Members:\n",
        "- Daffari Adiyatma (18222003)\n",
        "- Aththariq Lisan Q. D. S. (18222013)\n",
        "- Muhammaf Rafly (18222067)\n",
        "- Alvin Fadhillah Akmal (18222079)"
      ]
    },
    {
      "cell_type": "markdown",
      "metadata": {
        "id": "GwzsfETHLfHA"
      },
      "source": [
        "## Import Libraries"
      ]
    },
    {
      "cell_type": "code",
      "execution_count": 11,
      "metadata": {
        "id": "jZJU5W_4LfHB"
      },
      "outputs": [],
      "source": [
        "from sklearn.base import BaseEstimator, TransformerMixin\n",
        "from sklearn.pipeline import Pipeline\n",
        "from sklearn.impute import SimpleImputer\n",
        "from sklearn.model_selection import train_test_split\n",
        "from sklearn.compose import ColumnTransformer\n",
        "import pandas as pd\n",
        "import numpy as np\n",
        "import matplotlib.pyplot as plt\n",
        "from scipy.stats import zscore\n",
        "from sklearn.base import BaseEstimator, TransformerMixin\n",
        "from sklearn.pipeline import Pipeline\n",
        "from collections import Counter\n",
        "from sklearn.neighbors import KNeighborsClassifier\n",
        "from sklearn.metrics import classification_report, accuracy_score\n",
        "from sklearn.naive_bayes import GaussianNB\n",
        "from imblearn.over_sampling import SMOTE"
      ]
    },
    {
      "cell_type": "markdown",
      "metadata": {
        "id": "OKbjLIdYLfHC"
      },
      "source": [
        "## Import Dataset"
      ]
    },
    {
      "cell_type": "code",
      "execution_count": 12,
      "metadata": {
        "id": "-IWFJ-gdLfHD"
      },
      "outputs": [
        {
          "data": {
            "text/html": [
              "<div>\n",
              "<style scoped>\n",
              "    .dataframe tbody tr th:only-of-type {\n",
              "        vertical-align: middle;\n",
              "    }\n",
              "\n",
              "    .dataframe tbody tr th {\n",
              "        vertical-align: top;\n",
              "    }\n",
              "\n",
              "    .dataframe thead th {\n",
              "        text-align: right;\n",
              "    }\n",
              "</style>\n",
              "<table border=\"1\" class=\"dataframe\">\n",
              "  <thead>\n",
              "    <tr style=\"text-align: right;\">\n",
              "      <th></th>\n",
              "      <th>id</th>\n",
              "      <th>FILENAME</th>\n",
              "      <th>URL</th>\n",
              "      <th>URLLength</th>\n",
              "      <th>Domain</th>\n",
              "      <th>DomainLength</th>\n",
              "      <th>IsDomainIP</th>\n",
              "      <th>TLD</th>\n",
              "      <th>CharContinuationRate</th>\n",
              "      <th>TLDLegitimateProb</th>\n",
              "      <th>...</th>\n",
              "      <th>Pay</th>\n",
              "      <th>Crypto</th>\n",
              "      <th>HasCopyrightInfo</th>\n",
              "      <th>NoOfImage</th>\n",
              "      <th>NoOfCSS</th>\n",
              "      <th>NoOfJS</th>\n",
              "      <th>NoOfSelfRef</th>\n",
              "      <th>NoOfEmptyRef</th>\n",
              "      <th>NoOfExternalRef</th>\n",
              "      <th>label</th>\n",
              "    </tr>\n",
              "  </thead>\n",
              "  <tbody>\n",
              "    <tr>\n",
              "      <th>0</th>\n",
              "      <td>1</td>\n",
              "      <td>NaN</td>\n",
              "      <td>https://www.northcm.ac.th</td>\n",
              "      <td>24.0</td>\n",
              "      <td>www.northcm.ac.th</td>\n",
              "      <td>17.0</td>\n",
              "      <td>0.0</td>\n",
              "      <td>NaN</td>\n",
              "      <td>0.800000</td>\n",
              "      <td>NaN</td>\n",
              "      <td>...</td>\n",
              "      <td>0.0</td>\n",
              "      <td>0.0</td>\n",
              "      <td>1.0</td>\n",
              "      <td>NaN</td>\n",
              "      <td>3.0</td>\n",
              "      <td>NaN</td>\n",
              "      <td>69.0</td>\n",
              "      <td>NaN</td>\n",
              "      <td>NaN</td>\n",
              "      <td>1</td>\n",
              "    </tr>\n",
              "    <tr>\n",
              "      <th>1</th>\n",
              "      <td>4</td>\n",
              "      <td>8135291.txt</td>\n",
              "      <td>http://uqr.to/1il1z</td>\n",
              "      <td>NaN</td>\n",
              "      <td>NaN</td>\n",
              "      <td>NaN</td>\n",
              "      <td>NaN</td>\n",
              "      <td>to</td>\n",
              "      <td>1.000000</td>\n",
              "      <td>0.000896</td>\n",
              "      <td>...</td>\n",
              "      <td>NaN</td>\n",
              "      <td>0.0</td>\n",
              "      <td>0.0</td>\n",
              "      <td>NaN</td>\n",
              "      <td>NaN</td>\n",
              "      <td>NaN</td>\n",
              "      <td>NaN</td>\n",
              "      <td>NaN</td>\n",
              "      <td>1.0</td>\n",
              "      <td>0</td>\n",
              "    </tr>\n",
              "    <tr>\n",
              "      <th>2</th>\n",
              "      <td>5</td>\n",
              "      <td>586561.txt</td>\n",
              "      <td>https://www.woolworthsrewards.com.au</td>\n",
              "      <td>35.0</td>\n",
              "      <td>www.woolworthsrewards.com.au</td>\n",
              "      <td>28.0</td>\n",
              "      <td>0.0</td>\n",
              "      <td>au</td>\n",
              "      <td>0.857143</td>\n",
              "      <td>NaN</td>\n",
              "      <td>...</td>\n",
              "      <td>1.0</td>\n",
              "      <td>0.0</td>\n",
              "      <td>1.0</td>\n",
              "      <td>33.0</td>\n",
              "      <td>7.0</td>\n",
              "      <td>8.0</td>\n",
              "      <td>15.0</td>\n",
              "      <td>NaN</td>\n",
              "      <td>2.0</td>\n",
              "      <td>1</td>\n",
              "    </tr>\n",
              "    <tr>\n",
              "      <th>3</th>\n",
              "      <td>6</td>\n",
              "      <td>NaN</td>\n",
              "      <td>NaN</td>\n",
              "      <td>31.0</td>\n",
              "      <td>NaN</td>\n",
              "      <td>NaN</td>\n",
              "      <td>NaN</td>\n",
              "      <td>com</td>\n",
              "      <td>0.562500</td>\n",
              "      <td>0.522907</td>\n",
              "      <td>...</td>\n",
              "      <td>1.0</td>\n",
              "      <td>0.0</td>\n",
              "      <td>1.0</td>\n",
              "      <td>24.0</td>\n",
              "      <td>5.0</td>\n",
              "      <td>14.0</td>\n",
              "      <td>NaN</td>\n",
              "      <td>NaN</td>\n",
              "      <td>NaN</td>\n",
              "      <td>1</td>\n",
              "    </tr>\n",
              "    <tr>\n",
              "      <th>4</th>\n",
              "      <td>11</td>\n",
              "      <td>412632.txt</td>\n",
              "      <td>NaN</td>\n",
              "      <td>NaN</td>\n",
              "      <td>www.nyprowrestling.com</td>\n",
              "      <td>22.0</td>\n",
              "      <td>0.0</td>\n",
              "      <td>NaN</td>\n",
              "      <td>1.000000</td>\n",
              "      <td>NaN</td>\n",
              "      <td>...</td>\n",
              "      <td>0.0</td>\n",
              "      <td>0.0</td>\n",
              "      <td>1.0</td>\n",
              "      <td>NaN</td>\n",
              "      <td>NaN</td>\n",
              "      <td>14.0</td>\n",
              "      <td>NaN</td>\n",
              "      <td>0.0</td>\n",
              "      <td>NaN</td>\n",
              "      <td>1</td>\n",
              "    </tr>\n",
              "  </tbody>\n",
              "</table>\n",
              "<p>5 rows × 56 columns</p>\n",
              "</div>"
            ],
            "text/plain": [
              "   id     FILENAME                                   URL  URLLength  \\\n",
              "0   1          NaN             https://www.northcm.ac.th       24.0   \n",
              "1   4  8135291.txt                   http://uqr.to/1il1z        NaN   \n",
              "2   5   586561.txt  https://www.woolworthsrewards.com.au       35.0   \n",
              "3   6          NaN                                   NaN       31.0   \n",
              "4  11   412632.txt                                   NaN        NaN   \n",
              "\n",
              "                         Domain  DomainLength  IsDomainIP  TLD  \\\n",
              "0             www.northcm.ac.th          17.0         0.0  NaN   \n",
              "1                           NaN           NaN         NaN   to   \n",
              "2  www.woolworthsrewards.com.au          28.0         0.0   au   \n",
              "3                           NaN           NaN         NaN  com   \n",
              "4        www.nyprowrestling.com          22.0         0.0  NaN   \n",
              "\n",
              "   CharContinuationRate  TLDLegitimateProb  ...  Pay  Crypto  \\\n",
              "0              0.800000                NaN  ...  0.0     0.0   \n",
              "1              1.000000           0.000896  ...  NaN     0.0   \n",
              "2              0.857143                NaN  ...  1.0     0.0   \n",
              "3              0.562500           0.522907  ...  1.0     0.0   \n",
              "4              1.000000                NaN  ...  0.0     0.0   \n",
              "\n",
              "   HasCopyrightInfo  NoOfImage  NoOfCSS  NoOfJS  NoOfSelfRef  NoOfEmptyRef  \\\n",
              "0               1.0        NaN      3.0     NaN         69.0           NaN   \n",
              "1               0.0        NaN      NaN     NaN          NaN           NaN   \n",
              "2               1.0       33.0      7.0     8.0         15.0           NaN   \n",
              "3               1.0       24.0      5.0    14.0          NaN           NaN   \n",
              "4               1.0        NaN      NaN    14.0          NaN           0.0   \n",
              "\n",
              "   NoOfExternalRef  label  \n",
              "0              NaN      1  \n",
              "1              1.0      0  \n",
              "2              2.0      1  \n",
              "3              NaN      1  \n",
              "4              NaN      1  \n",
              "\n",
              "[5 rows x 56 columns]"
            ]
          },
          "execution_count": 12,
          "metadata": {},
          "output_type": "execute_result"
        }
      ],
      "source": [
        "if 'df_original' not in globals():\n",
        "    df_original = pd.read_csv('https://drive.google.com/uc?id=1w8DnxXGwaF1dLKlMxmXWVQFOH4vcvfTp')\n",
        "\n",
        "df = df_original.copy()\n",
        "df.head()"
      ]
    },
    {
      "cell_type": "code",
      "execution_count": 13,
      "metadata": {},
      "outputs": [],
      "source": [
        "#Drop kolom yang tidak digunakan\n",
        "df = df.drop(columns=['FILENAME'])"
      ]
    },
    {
      "cell_type": "code",
      "execution_count": 14,
      "metadata": {},
      "outputs": [
        {
          "data": {
            "text/plain": [
              "(28081, 55)"
            ]
          },
          "execution_count": 14,
          "metadata": {},
          "output_type": "execute_result"
        }
      ],
      "source": [
        "df_sample = df.sample(frac=0.2, random_state=42)\n",
        "df_sample.shape"
      ]
    },
    {
      "cell_type": "markdown",
      "metadata": {
        "id": "gvx-gT3bLfHM"
      },
      "source": [
        "# 1. Split Training Set and Validation Set\n",
        "\n",
        "Splitting the training and validation set works as an early diagnostic towards the performance of the model we train. This is done before the preprocessing steps to **avoid data leakage inbetween the sets**. If you want to use k-fold cross-validation, split the data later and do the cleaning and preprocessing separately for each split.\n",
        "\n",
        "Note: For training, you should use the data contained in the `train` folder given by the TA. The `test` data is only used for kaggle submission."
      ]
    },
    {
      "cell_type": "code",
      "execution_count": 15,
      "metadata": {
        "id": "4yWCUFFBLfHM"
      },
      "outputs": [
        {
          "name": "stdout",
          "output_type": "stream",
          "text": [
            "Ukuran training set: 22464\n",
            "Ukuran validation set: 5617\n"
          ]
        }
      ],
      "source": [
        "train_set, val_set = train_test_split(df_sample, test_size=0.2, random_state=42, shuffle=True)\n",
        "\n",
        "print(f\"Ukuran training set: {len(train_set)}\")\n",
        "print(f\"Ukuran validation set: {len(val_set)}\")"
      ]
    },
    {
      "cell_type": "markdown",
      "metadata": {
        "id": "IC14lmo_LfHN"
      },
      "source": [
        "# 2. Data Cleaning and Preprocessing\n",
        "\n",
        "This step is the first thing to be done once a Data Scientist have grasped a general knowledge of the data. Raw data is **seldom ready for training**, therefore steps need to be taken to clean and format the data for the Machine Learning model to interpret.\n",
        "\n",
        "By performing data cleaning and preprocessing, you ensure that your dataset is ready for model training, leading to more accurate and reliable machine learning results. These steps are essential for transforming raw data into a format that machine learning algorithms can effectively learn from and make predictions.\n",
        "\n",
        "We will give some common methods for you to try, but you only have to **at least implement one method for each process**. For each step that you will do, **please explain the reason why did you do that process. Write it in a markdown cell under the code cell you wrote.**"
      ]
    },
    {
      "cell_type": "markdown",
      "metadata": {
        "id": "p95_A8hSLfHY"
      },
      "source": [
        "## A. Data Cleaning\n",
        "\n",
        "**Data cleaning** is the crucial first step in preparing your dataset for machine learning. Raw data collected from various sources is often messy and may contain errors, missing values, and inconsistencies. Data cleaning involves the following steps:\n",
        "\n",
        "1. **Handling Missing Data:** Identify and address missing values in the dataset. This can include imputing missing values, removing rows or columns with excessive missing data, or using more advanced techniques like interpolation.\n",
        "\n",
        "2. **Dealing with Outliers:** Identify and handle outliers, which are data points significantly different from the rest of the dataset. Outliers can be removed or transformed to improve model performance.\n",
        "\n",
        "3. **Data Validation:** Check for data integrity and consistency. Ensure that data types are correct, categorical variables have consistent labels, and numerical values fall within expected ranges.\n",
        "\n",
        "4. **Removing Duplicates:** Identify and remove duplicate rows, as they can skew the model's training process and evaluation metrics.\n",
        "\n",
        "5. **Feature Engineering**: Create new features or modify existing ones to extract relevant information. This step can involve scaling, normalizing, or encoding features for better model interpretability."
      ]
    },
    {
      "cell_type": "markdown",
      "metadata": {
        "id": "aO0ZEZ-s6Lu-"
      },
      "source": [
        "### I. Remove Duplicates\n",
        "Handling duplicate values is crucial because they can compromise data integrity, leading to inaccurate analysis and insights. Duplicate entries can bias machine learning models, causing overfitting and reducing their ability to generalize to new data. They also inflate the dataset size unnecessarily, increasing computational costs and processing times. Additionally, duplicates can distort statistical measures and lead to inconsistencies, ultimately affecting the reliability of data-driven decisions and reporting. Ensuring data quality by removing duplicates is essential for accurate, efficient, and consistent analysis."
      ]
    },
    {
      "cell_type": "code",
      "execution_count": 16,
      "metadata": {},
      "outputs": [
        {
          "name": "stdout",
          "output_type": "stream",
          "text": [
            "Jumlah duplikasi pada train_set: 0\n",
            "Jumlah duplikasi pada val_set: 0\n"
          ]
        }
      ],
      "source": [
        "train_duplicates = train_set.duplicated().sum()\n",
        "print(f\"Jumlah duplikasi pada train_set: {train_duplicates}\")\n",
        "\n",
        "val_duplicates = val_set.duplicated().sum()\n",
        "print(f\"Jumlah duplikasi pada val_set: {val_duplicates}\")"
      ]
    },
    {
      "cell_type": "markdown",
      "metadata": {},
      "source": [
        "Tidak ada duplikasi sehingga proses cukup sampai dipengecekkan. Remove duplikasi dipindahkan ke urutan teratas karena mudah untuk mengecekknya."
      ]
    },
    {
      "cell_type": "code",
      "execution_count": 17,
      "metadata": {},
      "outputs": [],
      "source": [
        "class RemoveDuplicatesTransformer(BaseEstimator, TransformerMixin):\n",
        "    def fit(self, X, y=None):\n",
        "        return self\n",
        "    \n",
        "    def transform(self, X):\n",
        "        duplicates = X.duplicated().sum()\n",
        "        if duplicates > 0:\n",
        "            print(f\"Jumlah duplikasi: {duplicates}. Duplikasi dihapus.\")\n",
        "            return X.drop_duplicates()\n",
        "        else:\n",
        "            print(\"Tidak ada duplikasi ditemukan.\")\n",
        "            return X"
      ]
    },
    {
      "cell_type": "markdown",
      "metadata": {
        "id": "_wruGao9LfHZ"
      },
      "source": [
        "### II. Handling Missing Data\n",
        "\n",
        "Missing data can adversely affect the performance and accuracy of machine learning models. There are several strategies to handle missing data in machine learning:\n",
        "\n",
        "1. **Data Imputation:**\n",
        "\n",
        "    a. **Mean, Median, or Mode Imputation:** For numerical features, you can replace missing values with the mean, median, or mode of the non-missing values in the same feature. This method is simple and often effective when data is missing at random.\n",
        "\n",
        "    b. **Constant Value Imputation:** You can replace missing values with a predefined constant value (e.g., 0) if it makes sense for your dataset and problem.\n",
        "\n",
        "    c. **Imputation Using Predictive Models:** More advanced techniques involve using predictive models to estimate missing values. For example, you can train a regression model to predict missing numerical values or a classification model to predict missing categorical values.\n",
        "\n",
        "2. **Deletion of Missing Data:**\n",
        "\n",
        "    a. **Listwise Deletion:** In cases where the amount of missing data is relatively small, you can simply remove rows with missing values from your dataset. However, this approach can lead to a loss of valuable information.\n",
        "\n",
        "    b. **Column (Feature) Deletion:** If a feature has a large number of missing values and is not critical for your analysis, you can consider removing that feature altogether.\n",
        "\n",
        "3. **Domain-Specific Strategies:**\n",
        "\n",
        "    a. **Domain Knowledge:** In some cases, domain knowledge can guide the imputation process. For example, if you know that missing values are related to a specific condition, you can impute them accordingly.\n",
        "\n",
        "4. **Imputation Libraries:**\n",
        "\n",
        "    a. **Scikit-Learn:** Scikit-Learn provides a `SimpleImputer` class that can handle basic imputation strategies like mean, median, and mode imputation.\n",
        "\n",
        "    b. **Fancyimpute:** Fancyimpute is a Python library that offers more advanced imputation techniques, including matrix factorization, k-nearest neighbors, and deep learning-based methods.\n",
        "\n",
        "The choice of imputation method should be guided by the nature of your data, the amount of missing data, the problem you are trying to solve, and the assumptions you are willing to make."
      ]
    },
    {
      "cell_type": "code",
      "execution_count": 18,
      "metadata": {},
      "outputs": [
        {
          "name": "stdout",
          "output_type": "stream",
          "text": [
            "                            Missing Count  Percentage\n",
            "Domain                              11263   50.137999\n",
            "LineOfCode                          11105   49.434651\n",
            "NoOfExternalRef                     11098   49.403490\n",
            "HasSocialNet                        10871   48.392984\n",
            "NoOfCSS                             10868   48.379630\n",
            "LargestLineLength                   10798   48.068020\n",
            "HasCopyrightInfo                    10756   47.881054\n",
            "NoOfURLRedirect                     10710   47.676282\n",
            "NoOfObfuscatedChar                  10617   47.262286\n",
            "HasObfuscation                      10605   47.208868\n",
            "NoOfSelfRedirect                    10560   47.008547\n",
            "HasPasswordField                    10550   46.964031\n",
            "LetterRatioInURL                    10470   46.607906\n",
            "ObfuscationRatio                    10316   45.922365\n",
            "NoOfLettersInURL                    10184   45.334758\n",
            "SpacialCharRatioInURL               10056   44.764957\n",
            "HasSubmitButton                     10003   44.529024\n",
            "NoOfEqualsInURL                      9820   43.714387\n",
            "URLLength                            9727   43.300392\n",
            "NoOfJS                               9708   43.215812\n",
            "NoOfDegitsInURL                      9536   42.450142\n",
            "Title                                9289   41.350605\n",
            "HasFavicon                           9278   41.301638\n",
            "HasExternalFormSubmit                8807   39.204950\n",
            "HasDescription                       8758   38.986823\n",
            "Bank                                 8742   38.915598\n",
            "DegitRatioInURL                      8538   38.007479\n",
            "URLTitleMatchScore                   8381   37.308583\n",
            "TLDLegitimateProb                    8331   37.086004\n",
            "URLCharProb                          8270   36.814459\n",
            "NoOfiFrame                           8097   36.044338\n",
            "NoOfImage                            8089   36.008725\n",
            "DomainTitleMatchScore                8006   35.639245\n",
            "Crypto                               7992   35.576923\n",
            "IsHTTPS                              7982   35.532407\n",
            "CharContinuationRate                 7703   34.290420\n",
            "NoOfSelfRef                          7682   34.196937\n",
            "NoOfOtherSpecialCharsInURL           7667   34.130164\n",
            "TLDLength                            7654   34.072293\n",
            "DomainLength                         7443   33.133013\n",
            "Robots                               7353   32.732372\n",
            "TLD                                  7301   32.500890\n",
            "NoOfAmpersandInURL                   7291   32.456375\n",
            "HasTitle                             7183   31.975605\n",
            "NoOfQMarkInURL                       7118   31.686254\n",
            "URL                                  7093   31.574964\n",
            "NoOfSubDomain                        7028   31.285613\n",
            "HasHiddenFields                      7006   31.187678\n",
            "NoOfEmptyRef                         6866   30.564459\n",
            "NoOfPopup                            6860   30.537749\n",
            "IsResponsive                         6801   30.275107\n",
            "Pay                                  6761   30.097044\n",
            "IsDomainIP                           6743   30.016916\n"
          ]
        }
      ],
      "source": [
        "#Memeriksa Missing Value\n",
        "missing_count = train_set.isnull().sum()\n",
        "\n",
        "missing_percentage = (missing_count / len(train_set)) * 100\n",
        "\n",
        "missing_data = pd.DataFrame({\n",
        "    'Missing Count': missing_count,\n",
        "    'Percentage': missing_percentage\n",
        "})\n",
        "\n",
        "missing_data_sorted = missing_data.sort_values(by='Missing Count', ascending=False)\n",
        "\n",
        "print(missing_data_sorted[missing_data_sorted['Missing Count'] > 0])\n"
      ]
    },
    {
      "cell_type": "code",
      "execution_count": 19,
      "metadata": {},
      "outputs": [
        {
          "name": "stdout",
          "output_type": "stream",
          "text": [
            "Columns dropped: ['LineOfCode', 'NoOfExternalRef', 'Domain']\n"
          ]
        }
      ],
      "source": [
        "#Drop Kolom yang missing valuenya di atas 49%\n",
        "columns_to_drop = ['LineOfCode', 'NoOfExternalRef', 'Domain']\n",
        "\n",
        "train_set.drop(columns=columns_to_drop, axis=1, inplace=True)\n",
        "val_set.drop(columns=columns_to_drop, axis=1, inplace=True)\n",
        "\n",
        "print(\"Columns dropped:\", columns_to_drop)"
      ]
    },
    {
      "cell_type": "code",
      "execution_count": 20,
      "metadata": {},
      "outputs": [],
      "source": [
        "class ImputationTransformer(BaseEstimator, TransformerMixin):\n",
        "    def __init__(self):\n",
        "        self.binary_imputer = SimpleImputer(strategy='most_frequent')\n",
        "        self.mean_imputer = SimpleImputer(strategy='mean')\n",
        "        self.median_imputer = SimpleImputer(strategy='median')\n",
        "        self.binary_columns = []\n",
        "        self.mean_columns = []\n",
        "        self.median_columns = []\n",
        "\n",
        "    def fit(self, X, y=None):\n",
        "        numerical_columns = X.select_dtypes(include=['float64', 'int64']).columns\n",
        "        \n",
        "        self.binary_columns = [col for col in numerical_columns if set(X[col].dropna().unique()) <= {0, 1}]\n",
        "        \n",
        "        non_binary_columns = [col for col in numerical_columns if col not in self.binary_columns]\n",
        "        skewness = X[non_binary_columns].skew()\n",
        "        self.mean_columns = skewness[skewness.abs() < 0.5].index.tolist()\n",
        "        self.median_columns = skewness[skewness.abs() >= 0.5].index.tolist()\n",
        "        \n",
        "        if self.binary_columns:\n",
        "            self.binary_imputer.fit(X[self.binary_columns])\n",
        "        if self.mean_columns:\n",
        "            self.mean_imputer.fit(X[self.mean_columns])\n",
        "        if self.median_columns:\n",
        "            self.median_imputer.fit(X[self.median_columns])\n",
        "\n",
        "        return self\n",
        "\n",
        "    def transform(self, X):\n",
        "        X = X.copy()\n",
        "        \n",
        "        if self.binary_columns:\n",
        "            X[self.binary_columns] = self.binary_imputer.transform(X[self.binary_columns])\n",
        "        \n",
        "        if self.mean_columns:\n",
        "            X[self.mean_columns] = self.mean_imputer.transform(X[self.mean_columns])\n",
        "        \n",
        "        if self.median_columns:\n",
        "            X[self.median_columns] = self.median_imputer.transform(X[self.median_columns])\n",
        "        \n",
        "        return X\n"
      ]
    },
    {
      "cell_type": "code",
      "execution_count": 21,
      "metadata": {},
      "outputs": [
        {
          "name": "stdout",
          "output_type": "stream",
          "text": [
            "Columns dropped (categorical): ['URL', 'TLD', 'Title']\n"
          ]
        }
      ],
      "source": [
        "#Drop kolom kategorikal karena tidak akan diimputasi\n",
        "categorical_columns = train_set.select_dtypes(include=['object']).columns\n",
        "\n",
        "train_set.drop(columns=categorical_columns, axis=1, inplace=True)\n",
        "val_set.drop(columns=categorical_columns, axis=1, inplace=True)\n",
        "\n",
        "print(\"Columns dropped (categorical):\", categorical_columns.tolist())"
      ]
    },
    {
      "cell_type": "markdown",
      "metadata": {
        "id": "zgrSMcK75VY_"
      },
      "source": [
        "### III. Dealing with Outliers\n",
        "\n",
        "Outliers are data points that significantly differ from the majority of the data. They can be unusually high or low values that do not fit the pattern of the rest of the dataset. Outliers can significantly impact model performance, so it is important to handle them properly.\n",
        "\n",
        "Some methods to handle outliers:\n",
        "1. **Imputation**: Replace with mean, median, or a boundary value.\n",
        "2. **Clipping**: Cap values to upper and lower limits.\n",
        "3. **Transformation**: Use log, square root, or power transformations to reduce their influence.\n",
        "4. **Model-Based**: Use algorithms robust to outliers (e.g., tree-based models, Huber regression)."
      ]
    },
    {
      "cell_type": "code",
      "execution_count": 22,
      "metadata": {},
      "outputs": [
        {
          "name": "stdout",
          "output_type": "stream",
          "text": [
            "Outlier Sebelum Imputasi:\n",
            "id:\n",
            "  Outlier di bawah batas: 0\n",
            "  Outlier di atas batas: 0\n",
            "URLLength:\n",
            "  Outlier di bawah batas: 0\n",
            "  Outlier di atas batas: 428\n",
            "DomainLength:\n",
            "  Outlier di bawah batas: 8\n",
            "  Outlier di atas batas: 301\n",
            "CharContinuationRate:\n",
            "  Outlier di bawah batas: 2338\n",
            "  Outlier di atas batas: 0\n",
            "TLDLegitimateProb:\n",
            "  Outlier di bawah batas: 0\n",
            "  Outlier di atas batas: 0\n",
            "URLCharProb:\n",
            "  Outlier di bawah batas: 539\n",
            "  Outlier di atas batas: 45\n",
            "TLDLength:\n",
            "  Outlier di bawah batas: 0\n",
            "  Outlier di atas batas: 77\n",
            "NoOfSubDomain:\n",
            "  Outlier di bawah batas: 167\n",
            "  Outlier di atas batas: 2425\n",
            "NoOfObfuscatedChar:\n",
            "  Outlier di bawah batas: 0\n",
            "  Outlier di atas batas: 4\n",
            "ObfuscationRatio:\n",
            "  Outlier di bawah batas: 0\n",
            "  Outlier di atas batas: 5\n",
            "NoOfLettersInURL:\n",
            "  Outlier di bawah batas: 0\n",
            "  Outlier di atas batas: 347\n",
            "LetterRatioInURL:\n",
            "  Outlier di bawah batas: 38\n",
            "  Outlier di atas batas: 39\n",
            "NoOfDegitsInURL:\n",
            "  Outlier di bawah batas: 0\n",
            "  Outlier di atas batas: 824\n",
            "DegitRatioInURL:\n",
            "  Outlier di bawah batas: 0\n",
            "  Outlier di atas batas: 856\n",
            "NoOfEqualsInURL:\n",
            "  Outlier di bawah batas: 0\n",
            "  Outlier di atas batas: 59\n",
            "NoOfQMarkInURL:\n",
            "  Outlier di bawah batas: 0\n",
            "  Outlier di atas batas: 81\n",
            "NoOfAmpersandInURL:\n",
            "  Outlier di bawah batas: 0\n",
            "  Outlier di atas batas: 6\n",
            "NoOfOtherSpecialCharsInURL:\n",
            "  Outlier di bawah batas: 0\n",
            "  Outlier di atas batas: 479\n",
            "SpacialCharRatioInURL:\n",
            "  Outlier di bawah batas: 0\n",
            "  Outlier di atas batas: 848\n",
            "LargestLineLength:\n",
            "  Outlier di bawah batas: 0\n",
            "  Outlier di atas batas: 790\n",
            "DomainTitleMatchScore:\n",
            "  Outlier di bawah batas: 0\n",
            "  Outlier di atas batas: 0\n",
            "URLTitleMatchScore:\n",
            "  Outlier di bawah batas: 0\n",
            "  Outlier di atas batas: 0\n",
            "NoOfPopup:\n",
            "  Outlier di bawah batas: 0\n",
            "  Outlier di atas batas: 1373\n",
            "NoOfiFrame:\n",
            "  Outlier di bawah batas: 0\n",
            "  Outlier di atas batas: 1522\n",
            "NoOfImage:\n",
            "  Outlier di bawah batas: 0\n",
            "  Outlier di atas batas: 1137\n",
            "NoOfCSS:\n",
            "  Outlier di bawah batas: 0\n",
            "  Outlier di atas batas: 834\n",
            "NoOfJS:\n",
            "  Outlier di bawah batas: 0\n",
            "  Outlier di atas batas: 600\n",
            "NoOfSelfRef:\n",
            "  Outlier di bawah batas: 0\n",
            "  Outlier di atas batas: 866\n",
            "NoOfEmptyRef:\n",
            "  Outlier di bawah batas: 0\n",
            "  Outlier di atas batas: 1713\n"
          ]
        }
      ],
      "source": [
        "numerical_columns = train_set.select_dtypes(include=['float64', 'int64']).columns\n",
        "binary_columns = [col for col in numerical_columns if set(train_set[col].dropna().unique()) <= {0, 1}]\n",
        "\n",
        "parameters = {}\n",
        "\n",
        "print(\"Outlier Sebelum Imputasi:\")\n",
        "for col in numerical_columns:\n",
        "    if col in binary_columns:\n",
        "        continue  \n",
        "    \n",
        "    Q1 = train_set[col].quantile(0.25)\n",
        "    Q3 = train_set[col].quantile(0.75)\n",
        "    IQR = Q3 - Q1\n",
        "    lower_bound = Q1 - 1.5 * IQR\n",
        "    upper_bound = Q3 + 1.5 * IQR\n",
        "    \n",
        "    outliers_below = (train_set[col] < lower_bound).sum()\n",
        "    outliers_above = (train_set[col] > upper_bound).sum()\n",
        "    \n",
        "    print(f\"{col}:\")\n",
        "    print(f\"  Outlier di bawah batas: {outliers_below}\")\n",
        "    print(f\"  Outlier di atas batas: {outliers_above}\")\n",
        "\n",
        "    parameters[col] = {'lower_bound': lower_bound, 'upper_bound': upper_bound}"
      ]
    },
    {
      "cell_type": "code",
      "execution_count": 23,
      "metadata": {},
      "outputs": [],
      "source": [
        "class OutlierHandlerTransformer(BaseEstimator, TransformerMixin):\n",
        "    def __init__(self):\n",
        "        self.parameters = {}\n",
        "        self.binary_columns = []\n",
        "\n",
        "    def fit(self, X, y=None):\n",
        "        numerical_columns = X.select_dtypes(include=['float64', 'int64']).columns\n",
        "        \n",
        "        self.binary_columns = [col for col in numerical_columns if set(X[col].dropna().unique()) <= {0, 1}]\n",
        "        non_binary_columns = [col for col in numerical_columns if col not in self.binary_columns]\n",
        "        \n",
        "        self.parameters = {}\n",
        "        for col in non_binary_columns:\n",
        "            q1 = X[col].quantile(0.25)\n",
        "            q3 = X[col].quantile(0.75)\n",
        "            iqr = q3 - q1\n",
        "            lower_bound = q1 - 1.5 * iqr\n",
        "            upper_bound = q3 + 1.5 * iqr\n",
        "            self.parameters[col] = {'lower_bound': lower_bound, 'upper_bound': upper_bound}\n",
        "        return self\n",
        "\n",
        "    def transform(self, X):\n",
        "        X = X.copy()\n",
        "        \n",
        "        for col, bounds in self.parameters.items():\n",
        "            X[col] = X[col].clip(lower=bounds['lower_bound'], upper=bounds['upper_bound'])\n",
        "        \n",
        "        return X"
      ]
    },
    {
      "cell_type": "markdown",
      "metadata": {},
      "source": [
        "Sudah lebih baik untuk persebaran dan nilai-nilai ouliernya, meskipun metode clipping membuat penumpukan data di nilai min dan max"
      ]
    },
    {
      "cell_type": "markdown",
      "metadata": {
        "id": "eycPASmMLfHa"
      },
      "source": [
        "### IV. Feature Engineering\n",
        "\n",
        "**Feature engineering** involves creating new features (input variables) or transforming existing ones to improve the performance of machine learning models. Feature engineering aims to enhance the model's ability to learn patterns and make accurate predictions from the data. It's often said that \"good features make good models.\"\n",
        "\n",
        "1. **Feature Selection:** Feature engineering can involve selecting the most relevant and informative features from the dataset. Removing irrelevant or redundant features not only simplifies the model but also reduces the risk of overfitting.\n",
        "\n",
        "2. **Creating New Features:** Sometimes, the existing features may not capture the underlying patterns effectively. In such cases, engineers create new features that provide additional information. For example:\n",
        "   \n",
        "   - **Polynomial Features:** Engineers may create new features by taking the square, cube, or other higher-order terms of existing numerical features. This can help capture nonlinear relationships.\n",
        "   \n",
        "   - **Interaction Features:** Interaction features are created by combining two or more existing features. For example, if you have features \"length\" and \"width,\" you can create an \"area\" feature by multiplying them.\n",
        "\n",
        "3. **Binning or Discretization:** Continuous numerical features can be divided into bins or categories. For instance, age values can be grouped into bins like \"child,\" \"adult,\" and \"senior.\"\n",
        "\n",
        "4. **Domain-Specific Feature Engineering:** Depending on the domain and problem, engineers may create domain-specific features. For example, in fraud detection, features related to transaction history and user behavior may be engineered to identify anomalies.\n",
        "\n",
        "Feature engineering is both a creative and iterative process. It requires a deep understanding of the data, domain knowledge, and experimentation to determine which features will enhance the model's predictive power."
      ]
    },
    {
      "cell_type": "code",
      "execution_count": 24,
      "metadata": {},
      "outputs": [],
      "source": [
        "class UnifiedFeatureEngineeringTransformer(BaseEstimator, TransformerMixin):\n",
        "    def __init__(self, important_features=None, low_corr_threshold=0.2, high_corr_threshold=0.9, bins=5):\n",
        "        self.important_features = important_features if important_features else set()\n",
        "        self.low_corr_threshold = low_corr_threshold\n",
        "        self.high_corr_threshold = high_corr_threshold\n",
        "        self.bins = bins\n",
        "        self.features_to_drop = set()\n",
        "        self.interaction_features = []\n",
        "        self.columns = None  # Untuk menyimpan kolom final\n",
        "\n",
        "    def fit(self, X, y=None):\n",
        "        # Identifikasi kolom yang konstan\n",
        "        self.features_to_drop = set(X.nunique()[X.nunique() <= 1].index)\n",
        "\n",
        "        numerical_columns = X.select_dtypes(include=['float64', 'int64'])\n",
        "        \n",
        "        if y is not None:\n",
        "            # Hitung korelasi dengan target dan tambahkan kolom berkorelasi rendah ke fitur yang akan dihapus\n",
        "            correlation_with_target = numerical_columns.corrwith(y).abs()\n",
        "            low_correlation_features = set(correlation_with_target[correlation_with_target < self.low_corr_threshold].index)\n",
        "            self.features_to_drop.update(low_correlation_features.difference(self.important_features))\n",
        "\n",
        "        # Identifikasi fitur dengan korelasi tinggi antar fitur\n",
        "        corr_matrix = numerical_columns.corr().abs()\n",
        "        for col in numerical_columns.columns:\n",
        "            highly_correlated = corr_matrix.index[(corr_matrix[col] > self.high_corr_threshold) & (corr_matrix.index != col)]\n",
        "            self.interaction_features.extend([(col, other) for other in highly_correlated if (other, col) not in self.interaction_features])\n",
        "\n",
        "        # Simpan kolom yang ada setelah fitting\n",
        "        self.columns = list(X.drop(columns=self.features_to_drop, errors='ignore').columns)\n",
        "        return self\n",
        "\n",
        "    def transform(self, X):\n",
        "        X = X.copy()\n",
        "        \n",
        "        # Hapus fitur yang tidak relevan\n",
        "        X = X.drop(columns=self.features_to_drop, errors='ignore')\n",
        "\n",
        "        # Tambahkan fitur interaksi\n",
        "        for feature_1, feature_2 in self.interaction_features:\n",
        "            if feature_1 in X.columns and feature_2 in X.columns:\n",
        "                interaction_name = f\"{feature_1}_x_{feature_2}\"\n",
        "                if interaction_name not in X.columns:\n",
        "                    X[interaction_name] = X[feature_1] * X[feature_2]\n",
        "\n",
        "        # Tambahkan kolom yang hilang (jika ada)\n",
        "        missing_cols = set(self.columns) - set(X.columns)\n",
        "        for col in missing_cols:\n",
        "            X[col] = 0  # Isi dengan nilai default\n",
        "\n",
        "        # Urutkan kolom sesuai dengan data latih\n",
        "        return X[self.columns]\n"
      ]
    },
    {
      "cell_type": "markdown",
      "metadata": {},
      "source": [
        "Tidak ada kolom yang didrop"
      ]
    },
    {
      "cell_type": "markdown",
      "metadata": {
        "id": "xw11_49xLfHb"
      },
      "source": [
        "## B. Data Preprocessing\n",
        "\n",
        "**Data preprocessing** is a broader step that encompasses both data cleaning and additional transformations to make the data suitable for machine learning algorithms. Its primary goals are:\n",
        "\n",
        "1. **Feature Scaling:** Ensure that numerical features have similar scales. Common techniques include Min-Max scaling (scaling to a specific range) or standardization (mean-centered, unit variance).\n",
        "\n",
        "2. **Encoding Categorical Variables:** Machine learning models typically work with numerical data, so categorical variables need to be encoded. This can be done using one-hot encoding, label encoding, or more advanced methods like target encoding.\n",
        "\n",
        "3. **Handling Imbalanced Classes:** If dealing with imbalanced classes in a binary classification task, apply techniques such as oversampling, undersampling, or using different evaluation metrics to address class imbalance.\n",
        "\n",
        "4. **Dimensionality Reduction:** Reduce the number of features using techniques like Principal Component Analysis (PCA) or feature selection to simplify the model and potentially improve its performance.\n",
        "\n",
        "5. **Normalization:** Normalize data to achieve a standard distribution. This is particularly important for algorithms that assume normally distributed data."
      ]
    },
    {
      "cell_type": "markdown",
      "metadata": {
        "id": "rVyVnA1hLfHd"
      },
      "source": [
        "### Notes on Preprocessing processes\n",
        "\n",
        "It is advised to create functions or classes that have the same/similar type of inputs and outputs, so you can add, remove, or swap the order of the processes easily. You can implement the functions or classes by yourself\n",
        "\n",
        "or\n",
        "\n",
        "use `sklearn` library. To create a new preprocessing component in `sklearn`, implement a corresponding class that includes:\n",
        "1. Inheritance to `BaseEstimator` and `TransformerMixin`\n",
        "2. The method `fit`\n",
        "3. The method `transform`"
      ]
    },
    {
      "cell_type": "code",
      "execution_count": 25,
      "metadata": {
        "id": "WbxHt-5eKz_I"
      },
      "outputs": [],
      "source": [
        "# Example\n",
        "\n",
        "# from sklearn.base import BaseEstimator, TransformerMixin\n",
        "\n",
        "# class FeatureEncoder(BaseEstimator, TransformerMixin):\n",
        "\n",
        "#     def fit(self, X, y=None):\n",
        "\n",
        "#         # Fit the encoder here\n",
        "\n",
        "#         return self\n",
        "\n",
        "#     def transform(self, X):\n",
        "#         X_encoded = X.copy()\n",
        "\n",
        "#         # Encode the categorical variables here\n",
        "\n",
        "#         return X_encoded"
      ]
    },
    {
      "cell_type": "markdown",
      "metadata": {
        "id": "WhCgOl4xLfHb"
      },
      "source": [
        "### I. Feature Scaling\n",
        "\n",
        "**Feature scaling** is a preprocessing technique used in machine learning to standardize the range of independent variables or features of data. The primary goal of feature scaling is to ensure that all features contribute equally to the training process and that machine learning algorithms can work effectively with the data.\n",
        "\n",
        "Here are the main reasons why feature scaling is important:\n",
        "\n",
        "1. **Algorithm Sensitivity:** Many machine learning algorithms are sensitive to the scale of input features. If the scales of features are significantly different, some algorithms may perform poorly or take much longer to converge.\n",
        "\n",
        "2. **Distance-Based Algorithms:** Algorithms that rely on distances or similarities between data points, such as k-nearest neighbors (KNN) and support vector machines (SVM), can be influenced by feature scales. Features with larger scales may dominate the distance calculations.\n",
        "\n",
        "3. **Regularization:** Regularization techniques, like L1 (Lasso) and L2 (Ridge) regularization, add penalty terms based on feature coefficients. Scaling ensures that all features are treated equally in the regularization process.\n",
        "\n",
        "Common methods for feature scaling include:\n",
        "\n",
        "1. **Min-Max Scaling (Normalization):** This method scales features to a specific range, typically [0, 1]. It's done using the following formula:\n",
        "\n",
        "   $$X' = \\frac{X - X_{min}}{X_{max} - X_{min}}$$\n",
        "\n",
        "   - Here, $X$ is the original feature value, $X_{min}$ is the minimum value of the feature, and $X_{max}$ is the maximum value of the feature.  \n",
        "<br />\n",
        "<br />\n",
        "2. **Standardization (Z-score Scaling):** This method scales features to have a mean (average) of 0 and a standard deviation of 1. It's done using the following formula:\n",
        "\n",
        "   $$X' = \\frac{X - \\mu}{\\sigma}$$\n",
        "\n",
        "   - $X$ is the original feature value, $\\mu$ is the mean of the feature, and $\\sigma$ is the standard deviation of the feature.  \n",
        "<br />\n",
        "<br />\n",
        "3. **Robust Scaling:** Robust scaling is a method that scales features to the interquartile range (IQR) and is less affected by outliers. It's calculated as:\n",
        "\n",
        "   $$X' = \\frac{X - Q1}{Q3 - Q1}$$\n",
        "\n",
        "   - $X$ is the original feature value, $Q1$ is the first quartile (25th percentile), and $Q3$ is the third quartile (75th percentile) of the feature.  \n",
        "<br />\n",
        "<br />\n",
        "4. **Log Transformation:** In cases where data is highly skewed or has a heavy-tailed distribution, taking the logarithm of the feature values can help stabilize the variance and improve scaling.\n",
        "\n",
        "The choice of scaling method depends on the characteristics of your data and the requirements of your machine learning algorithm. **Min-max scaling and standardization are the most commonly used techniques and work well for many datasets.**\n",
        "\n",
        "Scaling should be applied separately to each training and test set to prevent data leakage from the test set into the training set. Additionally, **some algorithms may not require feature scaling, particularly tree-based models.**"
      ]
    },
    {
      "cell_type": "code",
      "execution_count": 26,
      "metadata": {},
      "outputs": [],
      "source": [
        "class FeatureScaler(BaseEstimator, TransformerMixin):\n",
        "    def __init__(self):\n",
        "        self.q1 = None\n",
        "        self.q3 = None\n",
        "        self.iqr = None\n",
        "\n",
        "    def fit(self, X, y=None):\n",
        "        # Pastikan input adalah DataFrame\n",
        "        if not isinstance(X, pd.DataFrame):\n",
        "            raise ValueError(\"FeatureScaler hanya mendukung input pandas DataFrame.\")\n",
        "\n",
        "        # Hitung Q1, Q3, dan IQR untuk setiap kolom numerik\n",
        "        self.q1 = X.quantile(0.25)\n",
        "        self.q3 = X.quantile(0.75)\n",
        "        self.iqr = self.q3 - self.q1\n",
        "        return self\n",
        "\n",
        "    def transform(self, X):\n",
        "        # Pastikan input adalah DataFrame\n",
        "        if not isinstance(X, pd.DataFrame):\n",
        "            raise ValueError(\"FeatureScaler hanya mendukung input pandas DataFrame.\")\n",
        "\n",
        "        # Terapkan scaling hanya pada kolom numerik\n",
        "        X_scaled = (X - self.q1) / self.iqr.replace(0, 1)  # Hindari pembagian dengan nol\n",
        "        return X_scaled\n"
      ]
    },
    {
      "cell_type": "markdown",
      "metadata": {
        "id": "f_Lh-4JwLfHc"
      },
      "source": []
    },
    {
      "cell_type": "markdown",
      "metadata": {},
      "source": [
        "### II. Feature Encoding\n",
        "\n",
        "**Feature encoding**, also known as **categorical encoding**, is the process of converting categorical data (non-numeric data) into a numerical format so that it can be used as input for machine learning algorithms. Most machine learning models require numerical data for training and prediction, so feature encoding is a critical step in data preprocessing.\n",
        "\n",
        "Categorical data can take various forms, including:\n",
        "\n",
        "1. **Nominal Data:** Categories with no intrinsic order, like colors or country names.  \n",
        "\n",
        "2. **Ordinal Data:** Categories with a meaningful order but not necessarily equidistant, like education levels (e.g., \"high school,\" \"bachelor's,\" \"master's\").\n",
        "\n",
        "There are several common methods for encoding categorical data:\n",
        "\n",
        "1. **Label Encoding:**\n",
        "\n",
        "   - Label encoding assigns a unique integer to each category in a feature.\n",
        "   - It's suitable for ordinal data where there's a clear order among categories.\n",
        "   - For example, if you have an \"education\" feature with values \"high school,\" \"bachelor's,\" and \"master's,\" you can encode them as 0, 1, and 2, respectively.\n",
        "<br />\n",
        "<br />\n",
        "2. **One-Hot Encoding:**\n",
        "\n",
        "   - One-hot encoding creates a binary (0 or 1) column for each category in a nominal feature.\n",
        "   - It's suitable for nominal data where there's no inherent order among categories.\n",
        "   - Each category becomes a new feature, and the presence (1) or absence (0) of a category is indicated for each row.\n",
        "<br />\n",
        "<br />\n",
        "3. **Target Encoding (Mean Encoding):**\n",
        "\n",
        "   - Target encoding replaces each category with the mean of the target variable for that category.\n",
        "   - It's often used for classification problems."
      ]
    },
    {
      "cell_type": "markdown",
      "metadata": {},
      "source": [
        "Kami tidak melakukan encoding karena beberapa kolom sudah kami drop dan juga kami sudah menerapkan labelling juga pada feature selection sehingga dapat dianggap encoding."
      ]
    },
    {
      "cell_type": "markdown",
      "metadata": {
        "id": "jKQO9wtB8Pc0"
      },
      "source": [
        "### III. Handling Imbalanced Dataset\n",
        "\n",
        "**Handling imbalanced datasets** is important because imbalanced data can lead to several issues that negatively impact the performance and reliability of machine learning models. Here are some key reasons:\n",
        "\n",
        "1. **Biased Model Performance**:\n",
        "\n",
        " - Models trained on imbalanced data tend to be biased towards the majority class, leading to poor performance on the minority class. This can result in misleading accuracy metrics.\n",
        "\n",
        "2. **Misleading Accuracy**:\n",
        "\n",
        " - High overall accuracy can be misleading in imbalanced datasets. For example, if 95% of the data belongs to one class, a model that always predicts the majority class will have 95% accuracy but will fail to identify the minority class.\n",
        "\n",
        "3. **Poor Generalization**:\n",
        "\n",
        " - Models trained on imbalanced data may not generalize well to new, unseen data, especially if the minority class is underrepresented.\n",
        "\n",
        "\n",
        "Some methods to handle imbalanced datasets:\n",
        "1. **Resampling Methods**:\n",
        "\n",
        " - Oversampling: Increase the number of instances in the minority class by duplicating or generating synthetic samples (e.g., SMOTE).\n",
        " - Undersampling: Reduce the number of instances in the majority class to balance the dataset.\n",
        "\n",
        "2. **Evaluation Metrics**:\n",
        "\n",
        " - Use appropriate evaluation metrics such as precision, recall, F1-score, ROC-AUC, and confusion matrix instead of accuracy to better assess model performance on imbalanced data.\n",
        "\n",
        "3. **Algorithmic Approaches**:\n",
        "\n",
        " - Use algorithms that are designed to handle imbalanced data, such as decision trees, random forests, or ensemble methods.\n",
        " - Adjust class weights in algorithms to give more importance to the minority class."
      ]
    },
    {
      "cell_type": "code",
      "execution_count": 27,
      "metadata": {},
      "outputs": [],
      "source": [
        "class SMOTEWrapper:\n",
        "    def __init__(self, random_state=42):\n",
        "        self.smote = SMOTE(random_state=random_state)\n",
        "\n",
        "    def fit_resample(self, X, y):\n",
        "        # Jika X adalah DataFrame, simpan kolom dan indeks\n",
        "        if isinstance(X, pd.DataFrame):\n",
        "            columns = X.columns\n",
        "            X_resampled, y_resampled = self.smote.fit_resample(X, y)\n",
        "            # Kembalikan hasil sebagai DataFrame\n",
        "            return pd.DataFrame(X_resampled, columns=columns), pd.Series(y_resampled)\n",
        "        else:\n",
        "            # Jika X bukan DataFrame, hanya kembalikan hasil\n",
        "            return self.smote.fit_resample(X, y)\n"
      ]
    },
    {
      "cell_type": "markdown",
      "metadata": {
        "id": "-ctVzt5DLfHd"
      },
      "source": [
        "# 3. Compile Preprocessing Pipeline\n",
        "\n",
        "All of the preprocessing classes or functions defined earlier will be compiled in this step."
      ]
    },
    {
      "cell_type": "markdown",
      "metadata": {
        "id": "S_ZlncSVjJG6"
      },
      "source": [
        "If you use sklearn to create preprocessing classes, you can list your preprocessing classes in the Pipeline object sequentially, and then fit and transform your data."
      ]
    },
    {
      "cell_type": "code",
      "execution_count": 28,
      "metadata": {},
      "outputs": [
        {
          "name": "stdout",
          "output_type": "stream",
          "text": [
            "Kolom di train_set: Index(['id', 'URLLength', 'DomainLength', 'IsDomainIP', 'CharContinuationRate',\n",
            "       'TLDLegitimateProb', 'URLCharProb', 'TLDLength', 'NoOfSubDomain',\n",
            "       'HasObfuscation', 'NoOfObfuscatedChar', 'ObfuscationRatio',\n",
            "       'NoOfLettersInURL', 'LetterRatioInURL', 'NoOfDegitsInURL',\n",
            "       'DegitRatioInURL', 'NoOfEqualsInURL', 'NoOfQMarkInURL',\n",
            "       'NoOfAmpersandInURL', 'NoOfOtherSpecialCharsInURL',\n",
            "       'SpacialCharRatioInURL', 'IsHTTPS', 'LargestLineLength', 'HasTitle',\n",
            "       'DomainTitleMatchScore', 'URLTitleMatchScore', 'HasFavicon', 'Robots',\n",
            "       'IsResponsive', 'NoOfURLRedirect', 'NoOfSelfRedirect', 'HasDescription',\n",
            "       'NoOfPopup', 'NoOfiFrame', 'HasExternalFormSubmit', 'HasSocialNet',\n",
            "       'HasSubmitButton', 'HasHiddenFields', 'HasPasswordField', 'Bank', 'Pay',\n",
            "       'Crypto', 'HasCopyrightInfo', 'NoOfImage', 'NoOfCSS', 'NoOfJS',\n",
            "       'NoOfSelfRef', 'NoOfEmptyRef', 'label'],\n",
            "      dtype='object')\n",
            "Kolom di val_set: Index(['id', 'URLLength', 'DomainLength', 'IsDomainIP', 'CharContinuationRate',\n",
            "       'TLDLegitimateProb', 'URLCharProb', 'TLDLength', 'NoOfSubDomain',\n",
            "       'HasObfuscation', 'NoOfObfuscatedChar', 'ObfuscationRatio',\n",
            "       'NoOfLettersInURL', 'LetterRatioInURL', 'NoOfDegitsInURL',\n",
            "       'DegitRatioInURL', 'NoOfEqualsInURL', 'NoOfQMarkInURL',\n",
            "       'NoOfAmpersandInURL', 'NoOfOtherSpecialCharsInURL',\n",
            "       'SpacialCharRatioInURL', 'IsHTTPS', 'LargestLineLength', 'HasTitle',\n",
            "       'DomainTitleMatchScore', 'URLTitleMatchScore', 'HasFavicon', 'Robots',\n",
            "       'IsResponsive', 'NoOfURLRedirect', 'NoOfSelfRedirect', 'HasDescription',\n",
            "       'NoOfPopup', 'NoOfiFrame', 'HasExternalFormSubmit', 'HasSocialNet',\n",
            "       'HasSubmitButton', 'HasHiddenFields', 'HasPasswordField', 'Bank', 'Pay',\n",
            "       'Crypto', 'HasCopyrightInfo', 'NoOfImage', 'NoOfCSS', 'NoOfJS',\n",
            "       'NoOfSelfRef', 'NoOfEmptyRef', 'label'],\n",
            "      dtype='object')\n"
          ]
        }
      ],
      "source": [
        "print(\"Kolom di train_set:\", train_set.columns)\n",
        "print(\"Kolom di val_set:\", val_set.columns)\n"
      ]
    },
    {
      "cell_type": "code",
      "execution_count": 29,
      "metadata": {},
      "outputs": [
        {
          "name": "stdout",
          "output_type": "stream",
          "text": [
            "Tidak ada duplikasi ditemukan.\n"
          ]
        },
        {
          "name": "stderr",
          "output_type": "stream",
          "text": [
            "/Users/attarlisan/Documents/Tubes2_AI/.venv/lib/python3.13/site-packages/numpy/lib/_function_base_impl.py:3045: RuntimeWarning: invalid value encountered in divide\n",
            "  c /= stddev[:, None]\n",
            "/Users/attarlisan/Documents/Tubes2_AI/.venv/lib/python3.13/site-packages/numpy/lib/_function_base_impl.py:3046: RuntimeWarning: invalid value encountered in divide\n",
            "  c /= stddev[None, :]\n"
          ]
        },
        {
          "name": "stdout",
          "output_type": "stream",
          "text": [
            "Tidak ada duplikasi ditemukan.\n",
            "Shape X_train_preprocessed: (22464, 11)\n",
            "Shape X_val_preprocessed: (5617, 11)\n",
            "Shape X_train_resampled: (41464, 11)\n",
            "Shape X_val_preprocessed (after syncing features): (5617, 11)\n"
          ]
        },
        {
          "name": "stderr",
          "output_type": "stream",
          "text": [
            "/Users/attarlisan/Documents/Tubes2_AI/.venv/lib/python3.13/site-packages/sklearn/pipeline.py:62: FutureWarning: This Pipeline instance is not fitted yet. Call 'fit' with appropriate arguments before using other methods such as transform, predict, etc. This will raise an error in 1.8 instead of the current warning.\n",
            "  warnings.warn(\n"
          ]
        }
      ],
      "source": [
        "# Preprocessing pipeline\n",
        "preprocessing_pipeline = Pipeline([\n",
        "    ('remove_duplicates', RemoveDuplicatesTransformer()),  \n",
        "    ('imputation', ImputationTransformer()),               \n",
        "    ('outlier_handling', OutlierHandlerTransformer()),      \n",
        "    ('feature_engineering', UnifiedFeatureEngineeringTransformer(\n",
        "        important_features={'IsHTTPS', 'HasTitle', 'HasCopyrightInfo', 'NoOfImage', 'HasSocialNet'},\n",
        "        low_corr_threshold=0.2,\n",
        "        high_corr_threshold=0.9,\n",
        "        bins=5\n",
        "    )),                                                    \n",
        "    ('scaler', FeatureScaler())                             \n",
        "])\n",
        "\n",
        "# Preprocessing data latih\n",
        "X_train = train_set.drop(columns=['label', 'id'])\n",
        "y_train = train_set['label']\n",
        "X_train_preprocessed = preprocessing_pipeline.fit_transform(X_train, y_train)\n",
        "\n",
        "# Simpan kolom fitur dari data latih\n",
        "if isinstance(X_train_preprocessed, pd.DataFrame):\n",
        "    feature_columns = X_train_preprocessed.columns\n",
        "else:\n",
        "    feature_columns = range(X_train_preprocessed.shape[1])\n",
        "\n",
        "# Preprocessing data validasi\n",
        "X_val = val_set.drop(columns=['label', 'id'])\n",
        "y_val = val_set['label']\n",
        "X_val_preprocessed = preprocessing_pipeline.transform(X_val)\n",
        "\n",
        "# Sinkronisasi kolom pada data validasi\n",
        "missing_cols = set(feature_columns) - set(X_val_preprocessed.columns)\n",
        "for col in missing_cols:\n",
        "    X_val_preprocessed[col] = 0\n",
        "\n",
        "extra_cols = set(X_val_preprocessed.columns) - set(feature_columns)\n",
        "X_val_preprocessed = X_val_preprocessed.drop(columns=extra_cols)\n",
        "\n",
        "# Debugging bentuk akhir\n",
        "print(\"Shape X_train_preprocessed:\", X_train_preprocessed.shape)\n",
        "print(\"Shape X_val_preprocessed:\", X_val_preprocessed.shape)\n",
        "\n",
        "# Resampling dengan SMOTE\n",
        "X_train_resampled, y_train_resampled = SMOTEWrapper().fit_resample(X_train_preprocessed, y_train)\n",
        "\n",
        "# Jika DataFrame diperlukan setelah SMOTE\n",
        "if isinstance(X_train_preprocessed, pd.DataFrame):\n",
        "    X_train_resampled = pd.DataFrame(X_train_resampled, columns=feature_columns)\n",
        "\n",
        "print(\"Shape X_train_resampled:\", X_train_resampled.shape)\n",
        "print(\"Shape X_val_preprocessed (after syncing features):\", X_val_preprocessed.shape)\n"
      ]
    },
    {
      "cell_type": "markdown",
      "metadata": {
        "id": "9A3adbZXLfHe"
      },
      "source": [
        "# 4. Modeling and Validation\n",
        "\n",
        "Modelling is the process of building your own machine learning models to solve specific problems, or in this assignment context, predicting the target feature `label`. Validation is the process of evaluating your trained model using the validation set or cross-validation method and providing some metrics that can help you decide what to do in the next iteration of development."
      ]
    },
    {
      "cell_type": "markdown",
      "metadata": {
        "id": "ZnhMNbBILfHf"
      },
      "source": [
        "## A. KNN"
      ]
    },
    {
      "cell_type": "code",
      "execution_count": 30,
      "metadata": {},
      "outputs": [],
      "source": [
        "import numpy as np\n",
        "from collections import Counter\n",
        "\n",
        "class KNearestNeighbors:\n",
        "    def __init__(self, k=3, metric='euclidean', p=2):\n",
        "        self.k = k\n",
        "        self.metric = metric\n",
        "        self.p = p\n",
        "        self.X_train = None\n",
        "        self.y_train = None\n",
        "\n",
        "    def fit(self, X, y):\n",
        "        self.X_train = np.array(X)\n",
        "        self.y_train = np.array(y)\n",
        "        if self.k > len(self.X_train):\n",
        "            raise ValueError(\"Nilai k tidak boleh lebih besar dari jumlah sampel training.\")\n",
        "        return self\n",
        "\n",
        "    def predict(self, X):\n",
        "        X = np.array(X)\n",
        "        predictions = [self._predict_one(x) for x in X]\n",
        "        return np.array(predictions)\n",
        "\n",
        "    def _predict_one(self, x):\n",
        "        distances = self._compute_distances(x)\n",
        "        k_indices = np.argsort(distances)[:self.k]\n",
        "        k_labels = self.y_train[k_indices]\n",
        "        most_common = Counter(k_labels).most_common(1)\n",
        "        return most_common[0][0]\n",
        "\n",
        "    def _compute_distances(self, x):\n",
        "        if self.metric == 'euclidean':\n",
        "            return np.sqrt(np.sum((self.X_train - x) ** 2, axis=1))\n",
        "        elif self.metric == 'manhattan':\n",
        "            return np.sum(np.abs(self.X_train - x), axis=1)\n",
        "        elif self.metric == 'minkowski':\n",
        "            return np.sum(np.abs(self.X_train - x) ** self.p, axis=1) ** (1 / self.p)\n",
        "        else:\n",
        "            raise ValueError(\"Metrik tidak valid. Gunakan 'euclidean', 'manhattan', atau 'minkowski'.\")\n"
      ]
    },
    {
      "cell_type": "code",
      "execution_count": 31,
      "metadata": {},
      "outputs": [
        {
          "name": "stdout",
          "output_type": "stream",
          "text": [
            "Shape X_train_resampled: (41464, 11)\n",
            "Shape X_val_preprocessed: (5617, 11)\n",
            "KNN Scikit-Learn Accuracy: 0.9503293573081716\n",
            "KNN Scikit-Learn Classification Report:\n",
            "               precision    recall  f1-score   support\n",
            "\n",
            "           0       0.63      0.83      0.72       420\n",
            "           1       0.99      0.96      0.97      5197\n",
            "\n",
            "    accuracy                           0.95      5617\n",
            "   macro avg       0.81      0.90      0.84      5617\n",
            "weighted avg       0.96      0.95      0.95      5617\n",
            "\n"
          ]
        }
      ],
      "source": [
        "from sklearn.neighbors import KNeighborsClassifier\n",
        "from sklearn.metrics import accuracy_score, classification_report\n",
        "\n",
        "print(\"Shape X_train_resampled:\", X_train_resampled.shape)\n",
        "print(\"Shape X_val_preprocessed:\", X_val_preprocessed.shape)\n",
        "\n",
        "\n",
        "knn_sklearn = KNeighborsClassifier(n_neighbors=5, metric='minkowski', p=3)\n",
        "knn_sklearn.fit(X_train_resampled, y_train_resampled)\n",
        "y_pred_knn_sklearn = knn_sklearn.predict(X_val_preprocessed)\n",
        "\n",
        "print(\"KNN Scikit-Learn Accuracy:\", accuracy_score(y_val, y_pred_knn_sklearn))\n",
        "print(\"KNN Scikit-Learn Classification Report:\\n\", classification_report(y_val, y_pred_knn_sklearn))"
      ]
    },
    {
      "cell_type": "markdown",
      "metadata": {
        "id": "nW0bMzkDLfHf"
      },
      "source": [
        "## B. Naive Bayes"
      ]
    },
    {
      "cell_type": "code",
      "execution_count": 32,
      "metadata": {
        "id": "C_XwsN_-LfHg"
      },
      "outputs": [],
      "source": [
        "class GaussianNaiveBayes:\n",
        "    def __init__(self):\n",
        "        self.classes = None\n",
        "        self.class_priors = {}\n",
        "        self.class_stats = {}\n",
        "\n",
        "    def fit(self, X, y):\n",
        "        X = np.array(X)\n",
        "        y = np.array(y)\n",
        "        self.classes = np.unique(y)\n",
        "        \n",
        "        for cls in self.classes:\n",
        "            X_cls = X[y == cls]\n",
        "            self.class_priors[cls] = len(X_cls) / len(y)\n",
        "            self.class_stats[cls] = {\n",
        "                \"mean\": np.mean(X_cls, axis=0),\n",
        "                \"var\": np.var(X_cls, axis=0) + 1e-9  \n",
        "            }\n",
        "        return self\n",
        "\n",
        "    def predict(self, X):\n",
        "        X = np.array(X)\n",
        "        predictions = [self._predict_one(x) for x in X]\n",
        "        return np.array(predictions)\n",
        "\n",
        "    def _predict_one(self, x):\n",
        "        posteriors = []\n",
        "        for cls in self.classes:\n",
        "            prior = np.log(self.class_priors[cls])\n",
        "            likelihood = -0.5 * np.sum(\n",
        "                np.log(2 * np.pi * self.class_stats[cls][\"var\"])\n",
        "            ) - 0.5 * np.sum(\n",
        "                ((x - self.class_stats[cls][\"mean\"]) ** 2) / self.class_stats[cls][\"var\"]\n",
        "            )\n",
        "            posteriors.append(prior + likelihood)\n",
        "        return self.classes[np.argmax(posteriors)]\n"
      ]
    },
    {
      "cell_type": "code",
      "execution_count": 33,
      "metadata": {},
      "outputs": [
        {
          "name": "stdout",
          "output_type": "stream",
          "text": [
            "Gaussian Naive Bayes Scikit-Learn Accuracy: 0.9611892469289657\n",
            "Gaussian Naive Bayes Scikit-Learn Classification Report:\n",
            "               precision    recall  f1-score   support\n",
            "\n",
            "           0       0.97      0.50      0.66       420\n",
            "           1       0.96      1.00      0.98      5197\n",
            "\n",
            "    accuracy                           0.96      5617\n",
            "   macro avg       0.97      0.75      0.82      5617\n",
            "weighted avg       0.96      0.96      0.96      5617\n",
            "\n"
          ]
        }
      ],
      "source": [
        "from sklearn.naive_bayes import GaussianNB\n",
        "\n",
        "# Scikit-learn Naive Bayes\n",
        "gnb_sklearn = GaussianNB()\n",
        "gnb_sklearn.fit(X_train_resampled, y_train_resampled)\n",
        "y_pred_gnb_sklearn = gnb_sklearn.predict(X_val_preprocessed)\n",
        "\n",
        "print(\"Gaussian Naive Bayes Scikit-Learn Accuracy:\", accuracy_score(y_val, y_pred_gnb_sklearn))\n",
        "print(\"Gaussian Naive Bayes Scikit-Learn Classification Report:\\n\", classification_report(y_val, y_pred_gnb_sklearn))\n"
      ]
    },
    {
      "cell_type": "code",
      "execution_count": 34,
      "metadata": {},
      "outputs": [
        {
          "data": {
            "text/plain": [
              "(22464, 49)"
            ]
          },
          "execution_count": 34,
          "metadata": {},
          "output_type": "execute_result"
        }
      ],
      "source": [
        "train_set.shape"
      ]
    },
    {
      "cell_type": "markdown",
      "metadata": {
        "id": "LoH2u6fOLfHh"
      },
      "source": [
        "## C. Improvements (Optional)\n",
        "\n",
        "- **Visualize the model evaluation result**\n",
        "\n",
        "This will help you to understand the details more clearly about your model's performance. From the visualization, you can see clearly if your model is leaning towards a class than the others. (Hint: confusion matrix, ROC-AUC curve, etc.)\n",
        "\n",
        "- **Explore the hyperparameters of your models**\n",
        "\n",
        "Each models have their own hyperparameters. And each of the hyperparameter have different effects on the model behaviour. You can optimize the model performance by finding the good set of hyperparameters through a process called **hyperparameter tuning**. (Hint: Grid search, random search, bayesian optimization)\n",
        "\n",
        "- **Cross-validation**\n",
        "\n",
        "Cross-validation is a critical technique in machine learning and data science for evaluating and validating the performance of predictive models. It provides a more **robust** and **reliable** evaluation method compared to a hold-out (single train-test set) validation. Though, it requires more time and computing power because of how cross-validation works. (Hint: k-fold cross-validation, stratified k-fold cross-validation, etc.)"
      ]
    },
    {
      "cell_type": "markdown",
      "metadata": {
        "id": "Li4l53DjLfHh"
      },
      "source": [
        "## D. Submission\n",
        "To predict the test set target feature and submit the results to the kaggle competition platform, do the following:\n",
        "1. Create a new pipeline instance identical to the first in Data Preprocessing\n",
        "2. With the pipeline, apply `fit_transform` to the original training set before splitting, then only apply `transform` to the test set.\n",
        "3. Retrain the model on the preprocessed training set\n",
        "4. Predict the test set\n",
        "5. Make sure the submission contains the `id` and `label` column.\n",
        "\n",
        "Note: Adjust step 1 and 2 to your implementation of the preprocessing step if you don't use pipeline API from `sklearn`."
      ]
    },
    {
      "cell_type": "code",
      "execution_count": 36,
      "metadata": {},
      "outputs": [
        {
          "name": "stdout",
          "output_type": "stream",
          "text": [
            "Tidak ada duplikasi ditemukan.\n"
          ]
        },
        {
          "name": "stderr",
          "output_type": "stream",
          "text": [
            "/Users/attarlisan/Documents/Tubes2_AI/.venv/lib/python3.13/site-packages/sklearn/pipeline.py:62: FutureWarning: This Pipeline instance is not fitted yet. Call 'fit' with appropriate arguments before using other methods such as transform, predict, etc. This will raise an error in 1.8 instead of the current warning.\n",
            "  warnings.warn(\n"
          ]
        }
      ],
      "source": [
        "test_path = '/Users/attarlisan/Documents/Tubes2_AI/.csv/test.csv'\n",
        "test_set = pd.read_csv(test_path)\n",
        "\n",
        "# Proses test set menggunakan pipeline\n",
        "X_test = test_set.drop(columns=['id'])  # Hilangkan kolom 'id'\n",
        "X_test_preprocessed = preprocessing_pipeline.transform(X_test)\n"
      ]
    },
    {
      "cell_type": "code",
      "execution_count": 38,
      "metadata": {},
      "outputs": [],
      "source": [
        "# Prediksi menggunakan model KNN\n",
        "y_test_pred = knn_sklearn.predict(X_test_preprocessed)\n"
      ]
    },
    {
      "cell_type": "code",
      "execution_count": 39,
      "metadata": {},
      "outputs": [
        {
          "name": "stdout",
          "output_type": "stream",
          "text": [
            "Submission file saved to: /Users/attarlisan/Documents/Tubes2_AI/submission.csv\n"
          ]
        }
      ],
      "source": [
        "# Membuat DataFrame untuk submission\n",
        "submission = pd.DataFrame({\n",
        "    'id': test_set['id'],  # Kolom 'id' dari test set\n",
        "    'label': y_test_pred   # Prediksi label\n",
        "})\n",
        "\n",
        "# Simpan file submission\n",
        "submission_path = '/Users/attarlisan/Documents/Tubes2_AI/submission.csv'\n",
        "submission.to_csv(submission_path, index=False)\n",
        "\n",
        "print(f\"Submission file saved to: {submission_path}\")\n"
      ]
    },
    {
      "cell_type": "markdown",
      "metadata": {
        "id": "R-jXvKOpLfHi"
      },
      "source": [
        "# 6. Error Analysis\n",
        "\n",
        "Based on all the process you have done until the modeling and evaluation step, write an analysis to support each steps you have taken to solve this problem. Write the analysis using the markdown block. Some questions that may help you in writing the analysis:\n",
        "\n",
        "- Does my model perform better in predicting one class than the other? If so, why is that?\n",
        "- To each models I have tried, which performs the best and what could be the reason?\n",
        "- Is it better for me to impute or drop the missing data? Why?\n",
        "- Does feature scaling help improve my model performance?\n",
        "- etc..."
      ]
    },
    {
      "cell_type": "markdown",
      "metadata": {
        "id": "tWL3nEAELfHj"
      },
      "source": [
        "- Dari model yang sudah dibuat, terlihat baik dari KNN menggunakan euclidean, manhattan, maupun minkowski bahwa model lebih baik dalam memprediksi class 1 (legitimate) dibandingkan class 0 (phishing). Terlihat bahwa akurasi untuk presisi untuk class 1 /legit adalah 90% ke atas untuk semua model sedangkan akurasi untuk class 0/ phishing adalah di bawah 60%. Hal ini kemungkinan dapat terjadi karena data yang tidak seimbang, terlihat bahwa frekuensi class legit adalah 5197 dan frekuensi class legit hanya 420 (sampled) sehingga terhadap bias untuk majority class yang menyebabkan false positive pada minority class. Untuk Naive Bayes sendiri, performa untuk memprediksi class legit dan class phishing serupa yaitu di atas 95%, akan tetapi recall untuk ss 0 cukup rendah. Hal ini dapat terjadi karena Naive Bayes mempertimbangkan seluruh dataset, sehingga tidak terlalu terganggu oleh ketidakseimbangan data dalam memprediksi kelas minoritas .\n",
        "- Dari Kedua model yang dibuat dan 3 distance yang berbeda untuk KNN, maka model terbaik adalah KNN dengan distance manhattan dan Naive Bayes dengan akurasi yang serupa, yaitu 95-96%\n",
        "- Untuk data yang hilang, jika data tersebut terlalu banyak; melebihi 49% maka kolom tersebut dihapus secara keseluruhan karena tidak begitu bermakna baik jika diimputasi ataupun dihapus, untuk kolom kategorikal juga kami drop. Sedangkan untuk missing value di kolom lain dilakukan imputasi karena jika missing value dihapus maka akan ada informasi penting yang hilang. Imputasi dilakukan untuk menjaga ukuran dataset dan mempertahankan distribusi fitur, sehingga model memiliki akses ke lebih banyak data. Namun, metode imputasi (mean, median, mode, dll.) harus sesuai dengan sifat data yang hilang dan jenis fiturnya.\n",
        "- Scaling dengan IQR Normalization seperti yang kami lakukan berguna untuk beberapa hal, terutama untuk KNN yaitu untuk membuat perhitungan jarak menjadi lebih adil dan akurat, menangani outlier secara lebih baik, serta untuk mengatasi ketidakseimbangan fitur."
      ]
    }
  ],
  "metadata": {
    "colab": {
      "provenance": []
    },
    "kernelspec": {
      "display_name": ".venv",
      "language": "python",
      "name": "python3"
    },
    "language_info": {
      "codemirror_mode": {
        "name": "ipython",
        "version": 3
      },
      "file_extension": ".py",
      "mimetype": "text/x-python",
      "name": "python",
      "nbconvert_exporter": "python",
      "pygments_lexer": "ipython3",
      "version": "3.13.1"
    }
  },
  "nbformat": 4,
  "nbformat_minor": 0
}
