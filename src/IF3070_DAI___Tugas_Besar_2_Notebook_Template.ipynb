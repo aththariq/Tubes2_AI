{
  "cells": [
    {
      "cell_type": "markdown",
      "metadata": {
        "id": "uR1JW69eLfG_"
      },
      "source": [
        "# IF3070 Foundations of Artificial Intelligence | Tugas Besar 2\n",
        "\n",
        "This notebook serves as a template for the assignment. Please create a copy of this notebook to complete your work. You can add more code blocks, markdown blocks, or new sections if needed.\n"
      ]
    },
    {
      "cell_type": "markdown",
      "metadata": {
        "id": "ucbaI5rBLtjJ"
      },
      "source": [
        "Group Number: 08\n",
        "\n",
        "Group Members:\n",
        "- Daffari Adiyatma (18222003)\n",
        "- Aththariq Lisan Q. D. S. (18222013)\n",
        "- Muhammad Rafly (18222067)\n",
        "- Alvin Fadhilah Akmal (18222079)"
      ]
    },
    {
      "cell_type": "markdown",
      "metadata": {
        "id": "GwzsfETHLfHA"
      },
      "source": [
        "## Import Libraries"
      ]
    },
    {
      "cell_type": "code",
      "execution_count": 1,
      "metadata": {
        "id": "jZJU5W_4LfHB"
      },
      "outputs": [],
      "source": [
        "from sklearn.base import BaseEstimator, TransformerMixin\n",
        "from sklearn.pipeline import Pipeline\n",
        "from sklearn.impute import SimpleImputer\n",
        "from sklearn.model_selection import train_test_split\n",
        "from sklearn.compose import ColumnTransformer\n",
        "import pandas as pd\n",
        "import numpy as np\n",
        "import matplotlib.pyplot as plt\n",
        "from scipy.stats import zscore"
      ]
    },
    {
      "cell_type": "markdown",
      "metadata": {
        "id": "OKbjLIdYLfHC"
      },
      "source": [
        "## Import Dataset"
      ]
    },
    {
      "cell_type": "code",
      "execution_count": null,
      "metadata": {
        "id": "-IWFJ-gdLfHD"
      },
      "outputs": [],
      "source": [
        "if 'df_original' not in globals():\n",
        "    df_original = pd.read_csv('https://drive.google.com/uc?id=1w8DnxXGwaF1dLKlMxmXWVQFOH4vcvfTp')\n",
        "\n",
        "df = df_original.copy()\n",
        "df.head()"
      ]
    },
    {
      "cell_type": "code",
      "execution_count": 3,
      "metadata": {},
      "outputs": [],
      "source": [
        "#Drop kolom yang tidak digunakan\n",
        "df = df.drop(columns=['FILENAME'])"
      ]
    },
    {
      "cell_type": "code",
      "execution_count": null,
      "metadata": {},
      "outputs": [],
      "source": [
        "df_sample = df.sample(frac=0.2, random_state=42)\n",
        "df_sample.shape"
      ]
    },
    {
      "cell_type": "markdown",
      "metadata": {
        "id": "gvx-gT3bLfHM"
      },
      "source": [
        "# 1. Split Training Set and Validation Set\n",
        "\n",
        "Splitting the training and validation set works as an early diagnostic towards the performance of the model we train. This is done before the preprocessing steps to **avoid data leakage inbetween the sets**. If you want to use k-fold cross-validation, split the data later and do the cleaning and preprocessing separately for each split.\n",
        "\n",
        "Note: For training, you should use the data contained in the `train` folder given by the TA. The `test` data is only used for kaggle submission."
      ]
    },
    {
      "cell_type": "code",
      "execution_count": null,
      "metadata": {
        "id": "4yWCUFFBLfHM"
      },
      "outputs": [],
      "source": [
        "train_set, val_set = train_test_split(df_sample, test_size=0.2, random_state=42, shuffle=True)\n",
        "\n",
        "print(f\"Ukuran training set: {len(train_set)}\")\n",
        "print(f\"Ukuran validation set: {len(val_set)}\")"
      ]
    },
    {
      "cell_type": "markdown",
      "metadata": {
        "id": "IC14lmo_LfHN"
      },
      "source": [
        "# 2. Data Cleaning and Preprocessing\n",
        "\n",
        "This step is the first thing to be done once a Data Scientist have grasped a general knowledge of the data. Raw data is **seldom ready for training**, therefore steps need to be taken to clean and format the data for the Machine Learning model to interpret.\n",
        "\n",
        "By performing data cleaning and preprocessing, you ensure that your dataset is ready for model training, leading to more accurate and reliable machine learning results. These steps are essential for transforming raw data into a format that machine learning algorithms can effectively learn from and make predictions.\n",
        "\n",
        "We will give some common methods for you to try, but you only have to **at least implement one method for each process**. For each step that you will do, **please explain the reason why did you do that process. Write it in a markdown cell under the code cell you wrote.**"
      ]
    },
    {
      "cell_type": "markdown",
      "metadata": {
        "id": "p95_A8hSLfHY"
      },
      "source": [
        "## A. Data Cleaning\n",
        "\n",
        "**Data cleaning** is the crucial first step in preparing your dataset for machine learning. Raw data collected from various sources is often messy and may contain errors, missing values, and inconsistencies. Data cleaning involves the following steps:\n",
        "\n",
        "1. **Handling Missing Data:** Identify and address missing values in the dataset. This can include imputing missing values, removing rows or columns with excessive missing data, or using more advanced techniques like interpolation.\n",
        "\n",
        "2. **Dealing with Outliers:** Identify and handle outliers, which are data points significantly different from the rest of the dataset. Outliers can be removed or transformed to improve model performance.\n",
        "\n",
        "3. **Data Validation:** Check for data integrity and consistency. Ensure that data types are correct, categorical variables have consistent labels, and numerical values fall within expected ranges.\n",
        "\n",
        "4. **Removing Duplicates:** Identify and remove duplicate rows, as they can skew the model's training process and evaluation metrics.\n",
        "\n",
        "5. **Feature Engineering**: Create new features or modify existing ones to extract relevant information. This step can involve scaling, normalizing, or encoding features for better model interpretability."
      ]
    },
    {
      "cell_type": "markdown",
      "metadata": {
        "id": "aO0ZEZ-s6Lu-"
      },
      "source": [
        "### I. Remove Duplicates\n",
        "Handling duplicate values is crucial because they can compromise data integrity, leading to inaccurate analysis and insights. Duplicate entries can bias machine learning models, causing overfitting and reducing their ability to generalize to new data. They also inflate the dataset size unnecessarily, increasing computational costs and processing times. Additionally, duplicates can distort statistical measures and lead to inconsistencies, ultimately affecting the reliability of data-driven decisions and reporting. Ensuring data quality by removing duplicates is essential for accurate, efficient, and consistent analysis."
      ]
    },
    {
      "cell_type": "code",
      "execution_count": null,
      "metadata": {},
      "outputs": [],
      "source": [
        "train_duplicates = train_set.duplicated().sum()\n",
        "print(f\"Jumlah duplikasi pada train_set: {train_duplicates}\")\n",
        "\n",
        "val_duplicates = val_set.duplicated().sum()\n",
        "print(f\"Jumlah duplikasi pada val_set: {val_duplicates}\")"
      ]
    },
    {
      "cell_type": "markdown",
      "metadata": {},
      "source": [
        "Tidak ada duplikasi sehingga proses cukup sampai dipengecekkan. Remove duplikasi dipindahkan ke urutan teratas karena mudah untuk mengecekknya."
      ]
    },
    {
      "cell_type": "markdown",
      "metadata": {
        "id": "_wruGao9LfHZ"
      },
      "source": [
        "### II. Handling Missing Data\n",
        "\n",
        "Missing data can adversely affect the performance and accuracy of machine learning models. There are several strategies to handle missing data in machine learning:\n",
        "\n",
        "1. **Data Imputation:**\n",
        "\n",
        "    a. **Mean, Median, or Mode Imputation:** For numerical features, you can replace missing values with the mean, median, or mode of the non-missing values in the same feature. This method is simple and often effective when data is missing at random.\n",
        "\n",
        "    b. **Constant Value Imputation:** You can replace missing values with a predefined constant value (e.g., 0) if it makes sense for your dataset and problem.\n",
        "\n",
        "    c. **Imputation Using Predictive Models:** More advanced techniques involve using predictive models to estimate missing values. For example, you can train a regression model to predict missing numerical values or a classification model to predict missing categorical values.\n",
        "\n",
        "2. **Deletion of Missing Data:**\n",
        "\n",
        "    a. **Listwise Deletion:** In cases where the amount of missing data is relatively small, you can simply remove rows with missing values from your dataset. However, this approach can lead to a loss of valuable information.\n",
        "\n",
        "    b. **Column (Feature) Deletion:** If a feature has a large number of missing values and is not critical for your analysis, you can consider removing that feature altogether.\n",
        "\n",
        "3. **Domain-Specific Strategies:**\n",
        "\n",
        "    a. **Domain Knowledge:** In some cases, domain knowledge can guide the imputation process. For example, if you know that missing values are related to a specific condition, you can impute them accordingly.\n",
        "\n",
        "4. **Imputation Libraries:**\n",
        "\n",
        "    a. **Scikit-Learn:** Scikit-Learn provides a `SimpleImputer` class that can handle basic imputation strategies like mean, median, and mode imputation.\n",
        "\n",
        "    b. **Fancyimpute:** Fancyimpute is a Python library that offers more advanced imputation techniques, including matrix factorization, k-nearest neighbors, and deep learning-based methods.\n",
        "\n",
        "The choice of imputation method should be guided by the nature of your data, the amount of missing data, the problem you are trying to solve, and the assumptions you are willing to make."
      ]
    },
    {
      "cell_type": "code",
      "execution_count": null,
      "metadata": {},
      "outputs": [],
      "source": [
        "#Memeriksa Missing Value\n",
        "missing_count = train_set.isnull().sum()\n",
        "\n",
        "missing_percentage = (missing_count / len(train_set)) * 100\n",
        "\n",
        "missing_data = pd.DataFrame({\n",
        "    'Missing Count': missing_count,\n",
        "    'Percentage': missing_percentage\n",
        "})\n",
        "\n",
        "missing_data_sorted = missing_data.sort_values(by='Missing Count', ascending=False)\n",
        "\n",
        "print(missing_data_sorted[missing_data_sorted['Missing Count'] > 0])\n"
      ]
    },
    {
      "cell_type": "code",
      "execution_count": null,
      "metadata": {},
      "outputs": [],
      "source": [
        "#Drop Kolom yang missing valuenya di atas 49%\n",
        "columns_to_drop = ['LineOfCode', 'NoOfExternalRef', 'Domain']\n",
        "\n",
        "train_set.drop(columns=columns_to_drop, axis=1, inplace=True)\n",
        "val_set.drop(columns=columns_to_drop, axis=1, inplace=True)\n",
        "\n",
        "print(\"Columns dropped:\", columns_to_drop)"
      ]
    },
    {
      "cell_type": "code",
      "execution_count": null,
      "metadata": {},
      "outputs": [],
      "source": [
        "#Buat Imputasi Nanti\n",
        "# Identifikasi kolom numerik\n",
        "numerical_columns = train_set.select_dtypes(include=['float64', 'int64']).columns\n",
        "\n",
        "# Identifikasi kolom biner\n",
        "binary_columns = [col for col in numerical_columns if set(train_set[col].dropna().unique()) <= {0, 1}]\n",
        "\n",
        "# Identifikasi kolom non-biner\n",
        "non_binary_columns = [col for col in numerical_columns if col not in binary_columns]\n",
        "\n",
        "# Hitung skewness untuk kolom numerik\n",
        "skewness = train_set[numerical_columns].skew()\n",
        "print(skewness)\n",
        "\n",
        "# Klasifikasiin kolom berdasarkan skewness\n",
        "mean_imputation_columns = skewness[skewness.abs() < 0.5].index.tolist()\n",
        "median_imputation_columns = skewness[skewness.abs() >= 0.5].index.tolist()\n",
        "\n",
        "print(\"Kolom dengan imputasi mean:\", mean_imputation_columns)\n",
        "print(\"Kolom dengan imputasi median:\", median_imputation_columns)\n",
        "\n",
        "# Imputasi untuk kolom biner\n",
        "binary_imputer = SimpleImputer(strategy='most_frequent')\n",
        "train_set[binary_columns] = binary_imputer.fit_transform(train_set[binary_columns])\n",
        "\n",
        "# Imputasi mean untuk kolom dengan skewness rendah\n",
        "mean_imputer = SimpleImputer(strategy='mean')\n",
        "train_set[mean_imputation_columns] = mean_imputer.fit_transform(train_set[mean_imputation_columns])\n",
        "\n",
        "# Imputasi median untuk kolom dengan skewness tinggi\n",
        "median_imputer = SimpleImputer(strategy='median')\n",
        "train_set[median_imputation_columns] = median_imputer.fit_transform(train_set[median_imputation_columns])\n",
        "\n",
        "# Terapkan transformasi ke validation set menggunakan parameter dari train set\n",
        "val_set[binary_columns] = binary_imputer.transform(val_set[binary_columns])\n",
        "val_set[mean_imputation_columns] = mean_imputer.transform(val_set[mean_imputation_columns])\n",
        "val_set[median_imputation_columns] = median_imputer.transform(val_set[median_imputation_columns])"
      ]
    },
    {
      "cell_type": "code",
      "execution_count": null,
      "metadata": {},
      "outputs": [],
      "source": [
        "#Drop kolom kategorikal karena tidak akan diimputasi\n",
        "categorical_columns = train_set.select_dtypes(include=['object']).columns\n",
        "\n",
        "train_set.drop(columns=categorical_columns, axis=1, inplace=True)\n",
        "val_set.drop(columns=categorical_columns, axis=1, inplace=True)\n",
        "\n",
        "print(\"Columns dropped (categorical):\", categorical_columns.tolist())"
      ]
    },
    {
      "cell_type": "code",
      "execution_count": null,
      "metadata": {},
      "outputs": [],
      "source": [
        "#Cek missing value lagi setelah imputasi\n",
        "missing_train = train_set.isnull().sum()\n",
        "missing_train_percentage = (missing_train / len(train_set)) * 100\n",
        "\n",
        "print(\"Missing values di Train Set setelah imputasi:\")\n",
        "print(pd.DataFrame({\n",
        "    'Missing Count': missing_train[missing_train > 0],\n",
        "    'Percentage': missing_train_percentage[missing_train > 0]\n",
        "}))\n",
        "\n",
        "missing_val = val_set.isnull().sum()\n",
        "missing_val_percentage = (missing_val / len(val_set)) * 100\n",
        "\n",
        "print(\"\\nMissing values di Validation Set setelah imputasi:\")\n",
        "print(pd.DataFrame({\n",
        "    'Missing Count': missing_val[missing_val > 0],\n",
        "    'Percentage': missing_val_percentage[missing_val > 0]\n",
        "}))\n",
        "print(\"Total missing values di Train Set:\", train_set.isnull().sum().sum())\n",
        "print(\"Total missing values di Validation Set:\", val_set.isnull().sum().sum())\n"
      ]
    },
    {
      "cell_type": "markdown",
      "metadata": {
        "id": "zgrSMcK75VY_"
      },
      "source": [
        "### III. Dealing with Outliers\n",
        "\n",
        "Outliers are data points that significantly differ from the majority of the data. They can be unusually high or low values that do not fit the pattern of the rest of the dataset. Outliers can significantly impact model performance, so it is important to handle them properly.\n",
        "\n",
        "Some methods to handle outliers:\n",
        "1. **Imputation**: Replace with mean, median, or a boundary value.\n",
        "2. **Clipping**: Cap values to upper and lower limits.\n",
        "3. **Transformation**: Use log, square root, or power transformations to reduce their influence.\n",
        "4. **Model-Based**: Use algorithms robust to outliers (e.g., tree-based models, Huber regression)."
      ]
    },
    {
      "cell_type": "code",
      "execution_count": null,
      "metadata": {},
      "outputs": [],
      "source": [
        "# Cek dulu kondisi outlier masing2 kolom\n",
        "numerical_columns = train_set.select_dtypes(include=['float64', 'int64']).columns\n",
        "\n",
        "outlier_analysis = {}\n",
        "\n",
        "for col in numerical_columns:\n",
        "    \n",
        "    Q1 = train_set[col].quantile(0.25)\n",
        "    Q3 = train_set[col].quantile(0.75)\n",
        "    IQR = Q3 - Q1\n",
        "    lower_bound = Q1 - 1.5 * IQR\n",
        "    upper_bound = Q3 + 1.5 * IQR\n",
        "\n",
        "    \n",
        "    z_scores = zscore(train_set[col].dropna())\n",
        "    z_outliers = np.abs(z_scores) > 3  \n",
        "    \n",
        "    outlier_analysis[col] = {\n",
        "        \"IQR Lower Bound\": lower_bound,\n",
        "        \"IQR Upper Bound\": upper_bound,\n",
        "        \"Z-Score Outliers Count\": z_outliers.sum(),\n",
        "        \"IQR Outliers Count\": ((train_set[col] < lower_bound) | (train_set[col] > upper_bound)).sum(),\n",
        "        \"Skewness\": train_set[col].skew()\n",
        "    }\n",
        "\n",
        "    \n",
        "    plt.figure(figsize=(10, 4))\n",
        "    plt.subplot(1, 2, 1)\n",
        "    plt.hist(train_set[col].dropna(), bins=30, color='blue', alpha=0.7)\n",
        "    plt.title(f'Histogram of {col}')\n",
        "    \n",
        "    plt.subplot(1, 2, 2)\n",
        "    plt.boxplot(train_set[col].dropna(), vert=False, patch_artist=True)\n",
        "    plt.title(f'Boxplot of {col}')\n",
        "    \n",
        "    plt.tight_layout()\n",
        "    plt.show()\n",
        "\n",
        "outlier_df = pd.DataFrame(outlier_analysis).T\n",
        "print(outlier_df)"
      ]
    },
    {
      "cell_type": "code",
      "execution_count": 13,
      "metadata": {},
      "outputs": [],
      "source": [
        "# Imputasi Outliernya\n",
        "numerical_columns = train_set.select_dtypes(include=['float64', 'int64']).columns\n",
        "\n",
        "binary_columns = [col for col in numerical_columns if set(train_set[col].dropna().unique()) <= {0, 1}]\n",
        "\n",
        "parameters = {}\n",
        "\n",
        "for col in numerical_columns:\n",
        "    if col in binary_columns:\n",
        "        continue  \n",
        "    \n",
        "    Q1 = train_set[col].quantile(0.25)\n",
        "    Q3 = train_set[col].quantile(0.75)\n",
        "    IQR = Q3 - Q1\n",
        "    lower_bound = Q1 - 1.5 * IQR\n",
        "    upper_bound = Q3 + 1.5 * IQR\n",
        "    \n",
        "    parameters[col] = {'lower_bound': lower_bound, 'upper_bound': upper_bound}\n",
        "    \n",
        "    train_set[col] = train_set[col].clip(lower=lower_bound, upper=upper_bound)\n",
        "\n",
        "for col in numerical_columns:\n",
        "    if col in binary_columns:\n",
        "        continue  \n",
        "\n",
        "    lower_bound = parameters[col]['lower_bound']\n",
        "    upper_bound = parameters[col]['upper_bound']\n",
        "\n",
        "    \n",
        "    val_set[col] = val_set[col].clip(lower=lower_bound, upper=upper_bound)\n"
      ]
    },
    {
      "cell_type": "code",
      "execution_count": null,
      "metadata": {},
      "outputs": [],
      "source": [
        "# Cek lagi kondisi outlier masing2 kolom\n",
        "numerical_columns = train_set.select_dtypes(include=['float64', 'int64']).columns\n",
        "\n",
        "\n",
        "outlier_analysis = {}\n",
        "\n",
        "for col in numerical_columns:\n",
        "    \n",
        "    Q1 = train_set[col].quantile(0.25)\n",
        "    Q3 = train_set[col].quantile(0.75)\n",
        "    IQR = Q3 - Q1\n",
        "    lower_bound = Q1 - 1.5 * IQR\n",
        "    upper_bound = Q3 + 1.5 * IQR\n",
        "\n",
        "    \n",
        "    z_scores = zscore(train_set[col].dropna())\n",
        "    z_outliers = np.abs(z_scores) > 3  \n",
        "\n",
        "    \n",
        "    outlier_analysis[col] = {\n",
        "        \"IQR Lower Bound\": lower_bound,\n",
        "        \"IQR Upper Bound\": upper_bound,\n",
        "        \"Z-Score Outliers Count\": z_outliers.sum(),\n",
        "        \"IQR Outliers Count\": ((train_set[col] < lower_bound) | (train_set[col] > upper_bound)).sum(),\n",
        "        \"Skewness\": train_set[col].skew()\n",
        "    }\n",
        "    \n",
        "    plt.figure(figsize=(10, 4))\n",
        "    plt.subplot(1, 2, 1)\n",
        "    plt.hist(train_set[col].dropna(), bins=30, color='blue', alpha=0.7)\n",
        "    plt.title(f'Histogram of {col}')\n",
        "    \n",
        "    plt.subplot(1, 2, 2)\n",
        "    plt.boxplot(train_set[col].dropna(), vert=False, patch_artist=True)\n",
        "    plt.title(f'Boxplot of {col}')\n",
        "    \n",
        "    plt.tight_layout()\n",
        "    plt.show()\n",
        "\n",
        "outlier_df = pd.DataFrame(outlier_analysis).T\n",
        "print(outlier_df)\n"
      ]
    },
    {
      "cell_type": "markdown",
      "metadata": {},
      "source": [
        "Sudah lebih baik untuk persebaran dan nilai-nilai ouliernya, meskipun metode clipping membuat penumpukan data di nilai min dan max"
      ]
    },
    {
      "cell_type": "markdown",
      "metadata": {
        "id": "eycPASmMLfHa"
      },
      "source": [
        "### IV. Feature Engineering\n",
        "\n",
        "**Feature engineering** involves creating new features (input variables) or transforming existing ones to improve the performance of machine learning models. Feature engineering aims to enhance the model's ability to learn patterns and make accurate predictions from the data. It's often said that \"good features make good models.\"\n",
        "\n",
        "1. **Feature Selection:** Feature engineering can involve selecting the most relevant and informative features from the dataset. Removing irrelevant or redundant features not only simplifies the model but also reduces the risk of overfitting.\n",
        "\n",
        "2. **Creating New Features:** Sometimes, the existing features may not capture the underlying patterns effectively. In such cases, engineers create new features that provide additional information. For example:\n",
        "   \n",
        "   - **Polynomial Features:** Engineers may create new features by taking the square, cube, or other higher-order terms of existing numerical features. This can help capture nonlinear relationships.\n",
        "   \n",
        "   - **Interaction Features:** Interaction features are created by combining two or more existing features. For example, if you have features \"length\" and \"width,\" you can create an \"area\" feature by multiplying them.\n",
        "\n",
        "3. **Binning or Discretization:** Continuous numerical features can be divided into bins or categories. For instance, age values can be grouped into bins like \"child,\" \"adult,\" and \"senior.\"\n",
        "\n",
        "4. **Domain-Specific Feature Engineering:** Depending on the domain and problem, engineers may create domain-specific features. For example, in fraud detection, features related to transaction history and user behavior may be engineered to identify anomalies.\n",
        "\n",
        "Feature engineering is both a creative and iterative process. It requires a deep understanding of the data, domain knowledge, and experimentation to determine which features will enhance the model's predictive power."
      ]
    },
    {
      "cell_type": "code",
      "execution_count": null,
      "metadata": {},
      "outputs": [],
      "source": [
        "#Feature Selection. Kami akan drop salah satu kolom yang memiliki korelasi tinggi antar kolomnya.\n",
        "import pandas as pd\n",
        "import numpy as np\n",
        "\n",
        "correlation_threshold = 0.65\n",
        "\n",
        "correlation_matrix = train_set.corr()\n",
        "\n",
        "upper_triangle = np.triu(np.ones(correlation_matrix.shape), k=1) \n",
        "high_correlation_pairs = np.where((correlation_matrix > correlation_threshold) & (upper_triangle == 1))\n",
        "\n",
        "columns_to_drop = set()\n",
        "for i, j in zip(high_correlation_pairs[0], high_correlation_pairs[1]):\n",
        "    col1 = correlation_matrix.columns[i]\n",
        "    col2 = correlation_matrix.columns[j]\n",
        "    columns_to_drop.add(col2)  \n",
        "\n",
        "train_set.drop(columns=columns_to_drop, inplace=True)\n",
        "val_set.drop(columns=columns_to_drop, inplace=True)\n",
        "\n",
        "print(\"Matriks Korelasi:\\n\", correlation_matrix)\n",
        "\n"
      ]
    },
    {
      "cell_type": "markdown",
      "metadata": {
        "id": "xw11_49xLfHb"
      },
      "source": [
        "## B. Data Preprocessing\n",
        "\n",
        "**Data preprocessing** is a broader step that encompasses both data cleaning and additional transformations to make the data suitable for machine learning algorithms. Its primary goals are:\n",
        "\n",
        "1. **Feature Scaling:** Ensure that numerical features have similar scales. Common techniques include Min-Max scaling (scaling to a specific range) or standardization (mean-centered, unit variance).\n",
        "\n",
        "2. **Encoding Categorical Variables:** Machine learning models typically work with numerical data, so categorical variables need to be encoded. This can be done using one-hot encoding, label encoding, or more advanced methods like target encoding.\n",
        "\n",
        "3. **Handling Imbalanced Classes:** If dealing with imbalanced classes in a binary classification task, apply techniques such as oversampling, undersampling, or using different evaluation metrics to address class imbalance.\n",
        "\n",
        "4. **Dimensionality Reduction:** Reduce the number of features using techniques like Principal Component Analysis (PCA) or feature selection to simplify the model and potentially improve its performance.\n",
        "\n",
        "5. **Normalization:** Normalize data to achieve a standard distribution. This is particularly important for algorithms that assume normally distributed data."
      ]
    },
    {
      "cell_type": "markdown",
      "metadata": {
        "id": "rVyVnA1hLfHd"
      },
      "source": [
        "### Notes on Preprocessing processes\n",
        "\n",
        "It is advised to create functions or classes that have the same/similar type of inputs and outputs, so you can add, remove, or swap the order of the processes easily. You can implement the functions or classes by yourself\n",
        "\n",
        "or\n",
        "\n",
        "use `sklearn` library. To create a new preprocessing component in `sklearn`, implement a corresponding class that includes:\n",
        "1. Inheritance to `BaseEstimator` and `TransformerMixin`\n",
        "2. The method `fit`\n",
        "3. The method `transform`"
      ]
    },
    {
      "cell_type": "code",
      "execution_count": 16,
      "metadata": {
        "id": "WbxHt-5eKz_I"
      },
      "outputs": [],
      "source": [
        "# Example\n",
        "\n",
        "# from sklearn.base import BaseEstimator, TransformerMixin\n",
        "\n",
        "# class FeatureEncoder(BaseEstimator, TransformerMixin):\n",
        "\n",
        "#     def fit(self, X, y=None):\n",
        "\n",
        "#         # Fit the encoder here\n",
        "\n",
        "#         return self\n",
        "\n",
        "#     def transform(self, X):\n",
        "#         X_encoded = X.copy()\n",
        "\n",
        "#         # Encode the categorical variables here\n",
        "\n",
        "#         return X_encoded"
      ]
    },
    {
      "cell_type": "markdown",
      "metadata": {
        "id": "WhCgOl4xLfHb"
      },
      "source": [
        "### I. Feature Scaling\n",
        "\n",
        "**Feature scaling** is a preprocessing technique used in machine learning to standardize the range of independent variables or features of data. The primary goal of feature scaling is to ensure that all features contribute equally to the training process and that machine learning algorithms can work effectively with the data.\n",
        "\n",
        "Here are the main reasons why feature scaling is important:\n",
        "\n",
        "1. **Algorithm Sensitivity:** Many machine learning algorithms are sensitive to the scale of input features. If the scales of features are significantly different, some algorithms may perform poorly or take much longer to converge.\n",
        "\n",
        "2. **Distance-Based Algorithms:** Algorithms that rely on distances or similarities between data points, such as k-nearest neighbors (KNN) and support vector machines (SVM), can be influenced by feature scales. Features with larger scales may dominate the distance calculations.\n",
        "\n",
        "3. **Regularization:** Regularization techniques, like L1 (Lasso) and L2 (Ridge) regularization, add penalty terms based on feature coefficients. Scaling ensures that all features are treated equally in the regularization process.\n",
        "\n",
        "Common methods for feature scaling include:\n",
        "\n",
        "1. **Min-Max Scaling (Normalization):** This method scales features to a specific range, typically [0, 1]. It's done using the following formula:\n",
        "\n",
        "   $$X' = \\frac{X - X_{min}}{X_{max} - X_{min}}$$\n",
        "\n",
        "   - Here, $X$ is the original feature value, $X_{min}$ is the minimum value of the feature, and $X_{max}$ is the maximum value of the feature.  \n",
        "<br />\n",
        "<br />\n",
        "2. **Standardization (Z-score Scaling):** This method scales features to have a mean (average) of 0 and a standard deviation of 1. It's done using the following formula:\n",
        "\n",
        "   $$X' = \\frac{X - \\mu}{\\sigma}$$\n",
        "\n",
        "   - $X$ is the original feature value, $\\mu$ is the mean of the feature, and $\\sigma$ is the standard deviation of the feature.  \n",
        "<br />\n",
        "<br />\n",
        "3. **Robust Scaling:** Robust scaling is a method that scales features to the interquartile range (IQR) and is less affected by outliers. It's calculated as:\n",
        "\n",
        "   $$X' = \\frac{X - Q1}{Q3 - Q1}$$\n",
        "\n",
        "   - $X$ is the original feature value, $Q1$ is the first quartile (25th percentile), and $Q3$ is the third quartile (75th percentile) of the feature.  \n",
        "<br />\n",
        "<br />\n",
        "4. **Log Transformation:** In cases where data is highly skewed or has a heavy-tailed distribution, taking the logarithm of the feature values can help stabilize the variance and improve scaling.\n",
        "\n",
        "The choice of scaling method depends on the characteristics of your data and the requirements of your machine learning algorithm. **Min-max scaling and standardization are the most commonly used techniques and work well for many datasets.**\n",
        "\n",
        "Scaling should be applied separately to each training and test set to prevent data leakage from the test set into the training set. Additionally, **some algorithms may not require feature scaling, particularly tree-based models.**"
      ]
    },
    {
      "cell_type": "code",
      "execution_count": 17,
      "metadata": {},
      "outputs": [],
      "source": [
        "import numpy as np\n",
        "from sklearn.base import BaseEstimator, TransformerMixin\n",
        "\n",
        "class FeatureScaler(BaseEstimator, TransformerMixin):\n",
        "    def __init__(self):\n",
        "        self.q1 = None\n",
        "        self.q3 = None\n",
        "        self.iqr = None\n",
        "\n",
        "    def fit(self, X, y=None):\n",
        "        X = np.array(X)\n",
        "        self.q1 = np.percentile(X, 25, axis=0)\n",
        "        self.q3 = np.percentile(X, 75, axis=0)\n",
        "        self.iqr = self.q3 - self.q1\n",
        "        return self\n",
        "\n",
        "    def transform(self, X):\n",
        "        X = np.array(X)\n",
        "        return (X - self.q1) / np.where(self.iqr == 0, 1, self.iqr)"
      ]
    },
    {
      "cell_type": "markdown",
      "metadata": {
        "id": "f_Lh-4JwLfHc"
      },
      "source": []
    },
    {
      "cell_type": "markdown",
      "metadata": {},
      "source": [
        "### II. Feature Encoding\n",
        "\n",
        "**Feature encoding**, also known as **categorical encoding**, is the process of converting categorical data (non-numeric data) into a numerical format so that it can be used as input for machine learning algorithms. Most machine learning models require numerical data for training and prediction, so feature encoding is a critical step in data preprocessing.\n",
        "\n",
        "Categorical data can take various forms, including:\n",
        "\n",
        "1. **Nominal Data:** Categories with no intrinsic order, like colors or country names.  \n",
        "\n",
        "2. **Ordinal Data:** Categories with a meaningful order but not necessarily equidistant, like education levels (e.g., \"high school,\" \"bachelor's,\" \"master's\").\n",
        "\n",
        "There are several common methods for encoding categorical data:\n",
        "\n",
        "1. **Label Encoding:**\n",
        "\n",
        "   - Label encoding assigns a unique integer to each category in a feature.\n",
        "   - It's suitable for ordinal data where there's a clear order among categories.\n",
        "   - For example, if you have an \"education\" feature with values \"high school,\" \"bachelor's,\" and \"master's,\" you can encode them as 0, 1, and 2, respectively.\n",
        "<br />\n",
        "<br />\n",
        "2. **One-Hot Encoding:**\n",
        "\n",
        "   - One-hot encoding creates a binary (0 or 1) column for each category in a nominal feature.\n",
        "   - It's suitable for nominal data where there's no inherent order among categories.\n",
        "   - Each category becomes a new feature, and the presence (1) or absence (0) of a category is indicated for each row.\n",
        "<br />\n",
        "<br />\n",
        "3. **Target Encoding (Mean Encoding):**\n",
        "\n",
        "   - Target encoding replaces each category with the mean of the target variable for that category.\n",
        "   - It's often used for classification problems."
      ]
    },
    {
      "cell_type": "code",
      "execution_count": null,
      "metadata": {},
      "outputs": [],
      "source": []
    },
    {
      "cell_type": "markdown",
      "metadata": {
        "id": "jKQO9wtB8Pc0"
      },
      "source": [
        "### III. Handling Imbalanced Dataset\n",
        "\n",
        "**Handling imbalanced datasets** is important because imbalanced data can lead to several issues that negatively impact the performance and reliability of machine learning models. Here are some key reasons:\n",
        "\n",
        "1. **Biased Model Performance**:\n",
        "\n",
        " - Models trained on imbalanced data tend to be biased towards the majority class, leading to poor performance on the minority class. This can result in misleading accuracy metrics.\n",
        "\n",
        "2. **Misleading Accuracy**:\n",
        "\n",
        " - High overall accuracy can be misleading in imbalanced datasets. For example, if 95% of the data belongs to one class, a model that always predicts the majority class will have 95% accuracy but will fail to identify the minority class.\n",
        "\n",
        "3. **Poor Generalization**:\n",
        "\n",
        " - Models trained on imbalanced data may not generalize well to new, unseen data, especially if the minority class is underrepresented.\n",
        "\n",
        "\n",
        "Some methods to handle imbalanced datasets:\n",
        "1. **Resampling Methods**:\n",
        "\n",
        " - Oversampling: Increase the number of instances in the minority class by duplicating or generating synthetic samples (e.g., SMOTE).\n",
        " - Undersampling: Reduce the number of instances in the majority class to balance the dataset.\n",
        "\n",
        "2. **Evaluation Metrics**:\n",
        "\n",
        " - Use appropriate evaluation metrics such as precision, recall, F1-score, ROC-AUC, and confusion matrix instead of accuracy to better assess model performance on imbalanced data.\n",
        "\n",
        "3. **Algorithmic Approaches**:\n",
        "\n",
        " - Use algorithms that are designed to handle imbalanced data, such as decision trees, random forests, or ensemble methods.\n",
        " - Adjust class weights in algorithms to give more importance to the minority class."
      ]
    },
    {
      "cell_type": "code",
      "execution_count": 18,
      "metadata": {},
      "outputs": [],
      "source": [
        "from imblearn.over_sampling import SMOTE\n",
        "from sklearn.base import BaseEstimator, TransformerMixin\n",
        "\n",
        "class SMOTEWrapper:\n",
        "    def __init__(self, random_state=42):\n",
        "        self.smote = SMOTE(random_state=random_state)\n",
        "\n",
        "    def fit_resample(self, X, y):\n",
        "        return self.smote.fit_resample(X, y)"
      ]
    },
    {
      "cell_type": "markdown",
      "metadata": {
        "id": "-ctVzt5DLfHd"
      },
      "source": [
        "# 3. Compile Preprocessing Pipeline\n",
        "\n",
        "All of the preprocessing classes or functions defined earlier will be compiled in this step."
      ]
    },
    {
      "cell_type": "markdown",
      "metadata": {
        "id": "S_ZlncSVjJG6"
      },
      "source": [
        "If you use sklearn to create preprocessing classes, you can list your preprocessing classes in the Pipeline object sequentially, and then fit and transform your data."
      ]
    },
    {
      "cell_type": "code",
      "execution_count": 19,
      "metadata": {
        "id": "jHraoW_7LfHd"
      },
      "outputs": [],
      "source": [
        "from sklearn.pipeline import Pipeline\n",
        "\n",
        "# Pipeline untuk Feature Scaling\n",
        "preprocessing_pipeline = Pipeline([\n",
        "    (\"scaler\", FeatureScaler())  # Robust Scaling\n",
        "])\n"
      ]
    },
    {
      "cell_type": "code",
      "execution_count": null,
      "metadata": {
        "id": "9s56aFFxLfHd"
      },
      "outputs": [],
      "source": [
        "# Pisahkan fitur dan target dari train_set dan val_set\n",
        "X_train = train_set.drop(columns=['label'])\n",
        "y_train = train_set['label']\n",
        "\n",
        "X_val = val_set.drop(columns=['label'])\n",
        "y_val = val_set['label']\n",
        "\n",
        "# Preprocessing pada training set (Feature Scaling)\n",
        "X_train_preprocessed = preprocessing_pipeline.fit_transform(X_train)\n",
        "\n",
        "# Terapkan SMOTE setelah preprocessing\n",
        "smote = SMOTEWrapper(random_state=42)\n",
        "X_train_resampled, y_train_resampled = smote.fit_resample(X_train_preprocessed, y_train)\n",
        "\n",
        "# Preprocessing pada validation set (tanpa SMOTE)\n",
        "X_val_preprocessed = preprocessing_pipeline.transform(X_val)\n",
        "\n",
        "print(\"Preprocessing selesai!\")\n",
        "print(\"Shape X_train setelah SMOTE dan Scaling:\", X_train_resampled.shape)\n",
        "print(\"Shape X_val setelah Scaling:\", X_val_preprocessed.shape)\n"
      ]
    },
    {
      "cell_type": "markdown",
      "metadata": {
        "id": "9A3adbZXLfHe"
      },
      "source": [
        "# 4. Modeling and Validation\n",
        "\n",
        "Modelling is the process of building your own machine learning models to solve specific problems, or in this assignment context, predicting the target feature `label`. Validation is the process of evaluating your trained model using the validation set or cross-validation method and providing some metrics that can help you decide what to do in the next iteration of development."
      ]
    },
    {
      "cell_type": "markdown",
      "metadata": {
        "id": "ZnhMNbBILfHf"
      },
      "source": [
        "## A. KNN"
      ]
    },
    {
      "cell_type": "code",
      "execution_count": 21,
      "metadata": {
        "id": "KV6ICmFmlqjk"
      },
      "outputs": [],
      "source": [
        "import numpy as np\n",
        "from collections import Counter\n",
        "\n",
        "class KNearestNeighbors:\n",
        "    def __init__(self, k=3):\n",
        "        self.k = k\n",
        "\n",
        "    def fit(self, X, y):\n",
        "        self.X_train = np.array(X)\n",
        "        self.y_train = np.array(y)\n",
        "\n",
        "    def predict(self, X):\n",
        "        X = np.array(X)\n",
        "        predictions = [self._predict_one(x) for x in X]\n",
        "        return np.array(predictions)\n",
        "\n",
        "    def _predict_one(self, x):\n",
        "        # Hitung jarak Euclidean\n",
        "        distances = np.sqrt(np.sum((self.X_train - x) ** 2, axis=1))\n",
        "        # Ambil k tetangga terdekat\n",
        "        k_indices = np.argsort(distances)[:self.k]\n",
        "        k_labels = self.y_train[k_indices]\n",
        "        # Voting mayoritas\n",
        "        most_common = Counter(k_labels).most_common(1)\n",
        "        return most_common[0][0]\n",
        "\n",
        "# Latih model\n",
        "knn_scratch = KNearestNeighbors(k=5)\n",
        "knn_scratch.fit(X_train_resampled, y_train_resampled)\n",
        "\n",
        "# Prediksi pada validation set\n",
        "y_pred_knn_scratch = knn_scratch.predict(X_val_preprocessed)\n"
      ]
    },
    {
      "cell_type": "code",
      "execution_count": 22,
      "metadata": {},
      "outputs": [],
      "source": [
        "import numpy as np\n",
        "from collections import Counter\n",
        "\n",
        "class KNearestNeighbors:\n",
        "    def __init__(self, k=3, metric='euclidean', p=2):\n",
        "        \"\"\"\n",
        "        :param k: Jumlah tetangga terdekat.\n",
        "        :param metric: Metrik jarak yang digunakan ('euclidean', 'manhattan', 'minkowski').\n",
        "        :param p: Parameter untuk Minkowski distance (default p=2 untuk Euclidean).\n",
        "        \"\"\"\n",
        "        self.k = k\n",
        "        self.metric = metric\n",
        "        self.p = p\n",
        "\n",
        "    def fit(self, X, y):\n",
        "        self.X_train = np.array(X)\n",
        "        self.y_train = np.array(y)\n",
        "\n",
        "    def predict(self, X):\n",
        "        X = np.array(X)\n",
        "        predictions = [self._predict_one(x) for x in X]\n",
        "        return np.array(predictions)\n",
        "\n",
        "    def _predict_one(self, x):\n",
        "        # Hitung jarak berdasarkan metrik yang dipilih\n",
        "        if self.metric == 'euclidean':\n",
        "            distances = np.sqrt(np.sum((self.X_train - x) ** 2, axis=1))\n",
        "        elif self.metric == 'manhattan':\n",
        "            distances = np.sum(np.abs(self.X_train - x), axis=1)\n",
        "        elif self.metric == 'minkowski':\n",
        "            distances = np.sum(np.abs(self.X_train - x) ** self.p, axis=1) ** (1 / self.p)\n",
        "        else:\n",
        "            raise ValueError(\"Metrik tidak valid. Gunakan 'euclidean', 'manhattan', atau 'minkowski'.\")\n",
        "\n",
        "        # Ambil k tetangga terdekat\n",
        "        k_indices = np.argsort(distances)[:self.k]\n",
        "        k_labels = self.y_train[k_indices]\n",
        "\n",
        "        # Voting mayoritas\n",
        "        most_common = Counter(k_labels).most_common(1)\n",
        "        return most_common[0][0]\n",
        "\n",
        "# Latih model menggunakan euclidean\n",
        "knn_scratch_euclidean = KNearestNeighbors(k=5, metric='euclidean') \n",
        "knn_scratch_euclidean.fit(X_train_resampled, y_train_resampled)\n",
        "y_pred_knn_scratch_euclidean = knn_scratch_euclidean.predict(X_val_preprocessed)\n",
        "\n",
        "# Latih model menggunakan manhattan\n",
        "knn_scratch_manhattan = KNearestNeighbors(k=5, metric='manhattan')  \n",
        "knn_scratch_manhattan.fit(X_train_resampled, y_train_resampled)\n",
        "y_pred_knn_scratch_manhattan = knn_scratch_manhattan.predict(X_val_preprocessed)\n",
        "\n",
        "#menggunakan Minkowski dengan p=3\n",
        "knn_scratch_minkowski = KNearestNeighbors(k=5, metric='minkowski', p=3)\n",
        "knn_scratch_minkowski.fit(X_train_resampled, y_train_resampled)\n",
        "y_pred_knn_scratch_minkowski = knn_scratch_minkowski.predict(X_val_preprocessed)\n"
      ]
    },
    {
      "cell_type": "code",
      "execution_count": null,
      "metadata": {},
      "outputs": [],
      "source": [
        "from sklearn.neighbors import KNeighborsClassifier\n",
        "from sklearn.metrics import classification_report, accuracy_score\n",
        "\n",
        "# Latih model\n",
        "knn_sklearn = KNeighborsClassifier(n_neighbors=5)\n",
        "knn_sklearn.fit(X_train_resampled, y_train_resampled)\n",
        "\n",
        "# Prediksi pada validation set\n",
        "y_pred_knn_sklearn = knn_sklearn.predict(X_val_preprocessed)\n",
        "\n",
        "# Evaluasi\n",
        "print(\"KNN (Scikit-Learn) Accuracy:\", accuracy_score(y_val, y_pred_knn_sklearn))\n",
        "print(\"KNN (Scikit-Learn) Classification Report:\\n\", classification_report(y_val, y_pred_knn_sklearn))\n"
      ]
    },
    {
      "cell_type": "markdown",
      "metadata": {
        "id": "nW0bMzkDLfHf"
      },
      "source": [
        "## B. Naive Bayes"
      ]
    },
    {
      "cell_type": "code",
      "execution_count": null,
      "metadata": {
        "id": "C_XwsN_-LfHg"
      },
      "outputs": [],
      "source": [
        "class NaiveBayes:\n",
        "    def fit(self, X, y):\n",
        "        self.classes = np.unique(y)\n",
        "        self.class_priors = {cls: np.mean(y == cls) for cls in self.classes}\n",
        "        self.class_means = {cls: X[y == cls].mean(axis=0) for cls in self.classes}\n",
        "        self.class_variances = {cls: X[y == cls].var(axis=0) for cls in self.classes}\n",
        "\n",
        "    def predict(self, X):\n",
        "        X = np.array(X)\n",
        "        predictions = [self._predict_one(x) for x in X]\n",
        "        return np.array(predictions)\n",
        "\n",
        "    def _predict_one(self, x):\n",
        "        posteriors = []\n",
        "        for cls in self.classes:\n",
        "            prior = np.log(self.class_priors[cls])\n",
        "            likelihood = -0.5 * np.sum(np.log(2 * np.pi * self.class_variances[cls]))\n",
        "            likelihood -= 0.5 * np.sum(((x - self.class_means[cls]) ** 2) / (self.class_variances[cls] + 1e-9))\n",
        "            posteriors.append(prior + likelihood)\n",
        "        return self.classes[np.argmax(posteriors)]\n",
        "\n",
        "# Latih model\n",
        "nb_scratch = NaiveBayes()\n",
        "nb_scratch.fit(X_train_resampled, y_train_resampled)\n",
        "\n",
        "# Prediksi pada validation set\n",
        "y_pred_nb_scratch = nb_scratch.predict(X_val_preprocessed)\n"
      ]
    },
    {
      "cell_type": "code",
      "execution_count": null,
      "metadata": {},
      "outputs": [],
      "source": [
        "from sklearn.naive_bayes import GaussianNB\n",
        "\n",
        "# Latih model\n",
        "nb_sklearn = GaussianNB()\n",
        "nb_sklearn.fit(X_train_resampled, y_train_resampled)\n",
        "\n",
        "# Prediksi pada validation set\n",
        "y_pred_nb_sklearn = nb_sklearn.predict(X_val_preprocessed)\n",
        "\n",
        "# Evaluasi\n",
        "print(\"Naive Bayes (Scikit-Learn) Accuracy:\", accuracy_score(y_val, y_pred_nb_sklearn))\n",
        "print(\"Naive Bayes (Scikit-Learn) Classification Report:\\n\", classification_report(y_val, y_pred_nb_sklearn))\n"
      ]
    },
    {
      "cell_type": "code",
      "execution_count": null,
      "metadata": {},
      "outputs": [],
      "source": [
        "from sklearn.metrics import classification_report, accuracy_score\n",
        "\n",
        "# Evaluasi KNN Scratch\n",
        "print(\"KNN (Scratch) Euclidan Accuracy:\", accuracy_score(y_val, y_pred_knn_scratch_euclidean))\n",
        "print(\"KNN (Scratch) Euclidean Classification Report:\\n\", classification_report(y_val, y_pred_knn_scratch_euclidean))\n",
        "\n",
        "print(\"KNN (Scratch) Manhattan Accuracy:\", accuracy_score(y_val, y_pred_knn_scratch_manhattan))\n",
        "print(\"KNN (Scratch) Manhattan Classification Report:\\n\", classification_report(y_val, y_pred_knn_scratch_manhattan))\n",
        "\n",
        "print(\"KNN (Scratch) Minkowski Accuracy:\", accuracy_score(y_val, y_pred_knn_scratch_minkowski))\n",
        "print(\"KNN (Scratch) Minkowski Classification Report:\\n\", classification_report(y_val, y_pred_knn_scratch_minkowski))\n",
        "\n",
        "# Evaluasi Naive Bayes Scratch\n",
        "print(\"Naive Bayes (Scratch) Accuracy:\", accuracy_score(y_val, y_pred_nb_scratch))\n",
        "print(\"Naive Bayes (Scratch) Classification Report:\\n\", classification_report(y_val, y_pred_nb_scratch))\n"
      ]
    },
    {
      "cell_type": "markdown",
      "metadata": {
        "id": "LoH2u6fOLfHh"
      },
      "source": [
        "## C. Improvements (Optional)\n",
        "\n",
        "- **Visualize the model evaluation result**\n",
        "\n",
        "This will help you to understand the details more clearly about your model's performance. From the visualization, you can see clearly if your model is leaning towards a class than the others. (Hint: confusion matrix, ROC-AUC curve, etc.)\n",
        "\n",
        "- **Explore the hyperparameters of your models**\n",
        "\n",
        "Each models have their own hyperparameters. And each of the hyperparameter have different effects on the model behaviour. You can optimize the model performance by finding the good set of hyperparameters through a process called **hyperparameter tuning**. (Hint: Grid search, random search, bayesian optimization)\n",
        "\n",
        "- **Cross-validation**\n",
        "\n",
        "Cross-validation is a critical technique in machine learning and data science for evaluating and validating the performance of predictive models. It provides a more **robust** and **reliable** evaluation method compared to a hold-out (single train-test set) validation. Though, it requires more time and computing power because of how cross-validation works. (Hint: k-fold cross-validation, stratified k-fold cross-validation, etc.)"
      ]
    },
    {
      "cell_type": "code",
      "execution_count": 27,
      "metadata": {
        "id": "pg-A54yELfHh"
      },
      "outputs": [],
      "source": [
        "# Type your code here"
      ]
    },
    {
      "cell_type": "markdown",
      "metadata": {
        "id": "Li4l53DjLfHh"
      },
      "source": [
        "## D. Submission\n",
        "To predict the test set target feature and submit the results to the kaggle competition platform, do the following:\n",
        "1. Create a new pipeline instance identical to the first in Data Preprocessing\n",
        "2. With the pipeline, apply `fit_transform` to the original training set before splitting, then only apply `transform` to the test set.\n",
        "3. Retrain the model on the preprocessed training set\n",
        "4. Predict the test set\n",
        "5. Make sure the submission contains the `id` and `label` column.\n",
        "\n",
        "Note: Adjust step 1 and 2 to your implementation of the preprocessing step if you don't use pipeline API from `sklearn`."
      ]
    },
    {
      "cell_type": "code",
      "execution_count": 28,
      "metadata": {
        "id": "LeqnfWc-LfHi"
      },
      "outputs": [],
      "source": [
        "# Type your code here"
      ]
    },
    {
      "cell_type": "markdown",
      "metadata": {
        "id": "R-jXvKOpLfHi"
      },
      "source": [
        "# 6. Error Analysis\n",
        "\n",
        "Based on all the process you have done until the modeling and evaluation step, write an analysis to support each steps you have taken to solve this problem. Write the analysis using the markdown block. Some questions that may help you in writing the analysis:\n",
        "\n",
        "- Does my model perform better in predicting one class than the other? If so, why is that?\n",
        "- To each models I have tried, which performs the best and what could be the reason?\n",
        "- Is it better for me to impute or drop the missing data? Why?\n",
        "- Does feature scaling help improve my model performance?\n",
        "- etc..."
      ]
    },
    {
      "cell_type": "markdown",
      "metadata": {
        "id": "tWL3nEAELfHj"
      },
      "source": [
        "`Provide your analysis here`"
      ]
    }
  ],
  "metadata": {
    "colab": {
      "provenance": []
    },
    "kernelspec": {
      "display_name": ".venv",
      "language": "python",
      "name": "python3"
    },
    "language_info": {
      "codemirror_mode": {
        "name": "ipython",
        "version": 3
      },
      "file_extension": ".py",
      "mimetype": "text/x-python",
      "name": "python",
      "nbconvert_exporter": "python",
      "pygments_lexer": "ipython3",
      "version": "3.12.6"
    }
  },
  "nbformat": 4,
  "nbformat_minor": 0
}
